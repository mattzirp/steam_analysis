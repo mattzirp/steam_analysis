{
 "cells": [
  {
   "cell_type": "markdown",
   "id": "5bd0b71b",
   "metadata": {},
   "source": [
    "# Steam Game Recommendations \n",
    "\n",
    "The goal of this notebook is to prototype some dimensionality reduction, classification, and clustering models on a dataset of Steam games, users, and reviews sourced from Kaggle. "
   ]
  },
  {
   "cell_type": "markdown",
   "id": "b1f2dbcd",
   "metadata": {},
   "source": [
    "## Dimensionality Reduction\n",
    "\n",
    "The games dataset does not have a high number of features, but there is a companion table of metadata for each game. The metadata contains a column called tags, which has various identifier tags for each game. Things like Singleplayer, Multiplayer, Co-op, RPG, Shooter, etc. are included in this column. We plan to pivot the unique set of tags in binary feature columns that will be merged to a subset of the dataset with features like game title, average play time, recommendation ratio,etc. Then we will apply Linear Discriminant Analysis to this set, to assess the ability of dimensionality reduction\n"
   ]
  },
  {
   "cell_type": "code",
   "execution_count": 47,
   "id": "47a569ff",
   "metadata": {},
   "outputs": [],
   "source": [
    "import pandas as pd\n",
    "import ast\n",
    "from sklearn.preprocessing import MultiLabelBinarizer, StandardScaler\n",
    "import seaborn as sns\n",
    "import numpy as np\n",
    "import matplotlib.pyplot as plt\n",
    "\n",
    "DATA = \"../data/steam/\""
   ]
  },
  {
   "cell_type": "code",
   "execution_count": 15,
   "id": "e3368c72",
   "metadata": {},
   "outputs": [
    {
     "data": {
      "text/html": [
       "<div>\n",
       "<style scoped>\n",
       "    .dataframe tbody tr th:only-of-type {\n",
       "        vertical-align: middle;\n",
       "    }\n",
       "\n",
       "    .dataframe tbody tr th {\n",
       "        vertical-align: top;\n",
       "    }\n",
       "\n",
       "    .dataframe thead th {\n",
       "        text-align: right;\n",
       "    }\n",
       "</style>\n",
       "<table border=\"1\" class=\"dataframe\">\n",
       "  <thead>\n",
       "    <tr style=\"text-align: right;\">\n",
       "      <th></th>\n",
       "      <th>app_id</th>\n",
       "      <th>title</th>\n",
       "      <th>positive_ratio</th>\n",
       "      <th>user_reviews</th>\n",
       "    </tr>\n",
       "  </thead>\n",
       "  <tbody>\n",
       "    <tr>\n",
       "      <th>0</th>\n",
       "      <td>13500</td>\n",
       "      <td>Prince of Persia: Warrior Within™</td>\n",
       "      <td>84</td>\n",
       "      <td>2199</td>\n",
       "    </tr>\n",
       "    <tr>\n",
       "      <th>1</th>\n",
       "      <td>22364</td>\n",
       "      <td>BRINK: Agents of Change</td>\n",
       "      <td>85</td>\n",
       "      <td>21</td>\n",
       "    </tr>\n",
       "    <tr>\n",
       "      <th>2</th>\n",
       "      <td>113020</td>\n",
       "      <td>Monaco: What's Yours Is Mine</td>\n",
       "      <td>92</td>\n",
       "      <td>3722</td>\n",
       "    </tr>\n",
       "    <tr>\n",
       "      <th>3</th>\n",
       "      <td>226560</td>\n",
       "      <td>Escape Dead Island</td>\n",
       "      <td>61</td>\n",
       "      <td>873</td>\n",
       "    </tr>\n",
       "    <tr>\n",
       "      <th>4</th>\n",
       "      <td>249050</td>\n",
       "      <td>Dungeon of the ENDLESS™</td>\n",
       "      <td>88</td>\n",
       "      <td>8784</td>\n",
       "    </tr>\n",
       "  </tbody>\n",
       "</table>\n",
       "</div>"
      ],
      "text/plain": [
       "   app_id                              title  positive_ratio  user_reviews\n",
       "0   13500  Prince of Persia: Warrior Within™              84          2199\n",
       "1   22364            BRINK: Agents of Change              85            21\n",
       "2  113020       Monaco: What's Yours Is Mine              92          3722\n",
       "3  226560                 Escape Dead Island              61           873\n",
       "4  249050            Dungeon of the ENDLESS™              88          8784"
      ]
     },
     "execution_count": 15,
     "metadata": {},
     "output_type": "execute_result"
    }
   ],
   "source": [
    "games = pd.read_csv(DATA + \"games.csv\", usecols=['app_id', 'title', 'positive_ratio', 'user_reviews'])\n",
    "games.head()"
   ]
  },
  {
   "cell_type": "code",
   "execution_count": 16,
   "id": "f7a5981a",
   "metadata": {},
   "outputs": [],
   "source": [
    "# extract mean hours played from reviews\n",
    "recommendations = pd.read_csv(DATA + 'recommendations.csv', usecols=['app_id', 'hours'])\n",
    "average_hours_played = (recommendations\n",
    "                        .groupby('app_id')\n",
    "                        .mean('hours')\n",
    "                        .reset_index()\n",
    "                        )"
   ]
  },
  {
   "cell_type": "code",
   "execution_count": 17,
   "id": "837b351e",
   "metadata": {},
   "outputs": [
    {
     "data": {
      "text/html": [
       "<div>\n",
       "<style scoped>\n",
       "    .dataframe tbody tr th:only-of-type {\n",
       "        vertical-align: middle;\n",
       "    }\n",
       "\n",
       "    .dataframe tbody tr th {\n",
       "        vertical-align: top;\n",
       "    }\n",
       "\n",
       "    .dataframe thead th {\n",
       "        text-align: right;\n",
       "    }\n",
       "</style>\n",
       "<table border=\"1\" class=\"dataframe\">\n",
       "  <thead>\n",
       "    <tr style=\"text-align: right;\">\n",
       "      <th></th>\n",
       "      <th>app_id</th>\n",
       "      <th>title</th>\n",
       "      <th>positive_ratio</th>\n",
       "      <th>user_reviews</th>\n",
       "      <th>hours</th>\n",
       "    </tr>\n",
       "  </thead>\n",
       "  <tbody>\n",
       "    <tr>\n",
       "      <th>0</th>\n",
       "      <td>13500</td>\n",
       "      <td>Prince of Persia: Warrior Within™</td>\n",
       "      <td>84</td>\n",
       "      <td>2199</td>\n",
       "      <td>18.967912</td>\n",
       "    </tr>\n",
       "    <tr>\n",
       "      <th>1</th>\n",
       "      <td>22364</td>\n",
       "      <td>BRINK: Agents of Change</td>\n",
       "      <td>85</td>\n",
       "      <td>21</td>\n",
       "      <td>6.236682</td>\n",
       "    </tr>\n",
       "    <tr>\n",
       "      <th>2</th>\n",
       "      <td>113020</td>\n",
       "      <td>Monaco: What's Yours Is Mine</td>\n",
       "      <td>92</td>\n",
       "      <td>3722</td>\n",
       "      <td>20.413294</td>\n",
       "    </tr>\n",
       "    <tr>\n",
       "      <th>3</th>\n",
       "      <td>226560</td>\n",
       "      <td>Escape Dead Island</td>\n",
       "      <td>61</td>\n",
       "      <td>873</td>\n",
       "      <td>10.776625</td>\n",
       "    </tr>\n",
       "    <tr>\n",
       "      <th>4</th>\n",
       "      <td>249050</td>\n",
       "      <td>Dungeon of the ENDLESS™</td>\n",
       "      <td>88</td>\n",
       "      <td>8784</td>\n",
       "      <td>40.621691</td>\n",
       "    </tr>\n",
       "  </tbody>\n",
       "</table>\n",
       "</div>"
      ],
      "text/plain": [
       "   app_id                              title  positive_ratio  user_reviews  \\\n",
       "0   13500  Prince of Persia: Warrior Within™              84          2199   \n",
       "1   22364            BRINK: Agents of Change              85            21   \n",
       "2  113020       Monaco: What's Yours Is Mine              92          3722   \n",
       "3  226560                 Escape Dead Island              61           873   \n",
       "4  249050            Dungeon of the ENDLESS™              88          8784   \n",
       "\n",
       "       hours  \n",
       "0  18.967912  \n",
       "1   6.236682  \n",
       "2  20.413294  \n",
       "3  10.776625  \n",
       "4  40.621691  "
      ]
     },
     "execution_count": 17,
     "metadata": {},
     "output_type": "execute_result"
    }
   ],
   "source": [
    "# merge mean hours played with games, impute missing values as median\n",
    "games = pd.merge(games, average_hours_played, how='left', on='app_id')\n",
    "games['hours'] = games['hours'].fillna(games['hours'].median())\n",
    "games.head()"
   ]
  },
  {
   "cell_type": "markdown",
   "id": "5a35dc41",
   "metadata": {},
   "source": [
    "From our key numerical columns of positive_ratio, user_reviews, and mean hours played, we will construct a feature that defines the \"success\" of the game. To do this will assign a point for each quartile in each of these columns, starting with 0. So for example if a game were in the highest 25% for hours played, number of reviews and positive review ratio, it would score a 9 (3 for each), in the bottom 25% of each would score a 0. In the top 50% of reviews, but bottom 25% of hours played, and in the second quartile for positive ratio, would score a 3.\n",
    "\n",
    "We will use the success score later to classify our games based on their tags."
   ]
  },
  {
   "cell_type": "code",
   "execution_count": 18,
   "id": "c335f2cd",
   "metadata": {},
   "outputs": [],
   "source": [
    "def assign_quartile_score(series_to_score):\n",
    "    \"\"\"\n",
    "    Assigns points (0-3) based on the quartile of a numerical series.\n",
    "    0 points for Q1, 1 for Q2, 2 for Q3, 3 for Q4.\n",
    "    Handles NaNs by assigning 0 points.\n",
    "    \"\"\"\n",
    "    # Ensure the series is numeric, coercing errors to NaN\n",
    "    numeric_series = pd.to_numeric(series_to_score, errors='coerce')\n",
    "\n",
    "    scored_series = pd.qcut(\n",
    "        numeric_series,\n",
    "        q=4,\n",
    "        labels=[0, 1, 2, 3],\n",
    "        duplicates='drop'\n",
    "    ).astype(float) \n",
    "\n",
    "    scored_series = scored_series.fillna(0)\n",
    "\n",
    "    return scored_series\n",
    "\n",
    "score_metrics = ['positive_ratio', 'user_reviews', 'hours']\n",
    "games['success_score'] = 0.0\n",
    "\n",
    "# Calculate points for each metric and add them to the total score\n",
    "for col in score_metrics:\n",
    "    games[f'{col}_points'] = assign_quartile_score(games[col])\n",
    "    games['success_score'] += games[f'{col}_points']"
   ]
  },
  {
   "cell_type": "markdown",
   "id": "78140b56",
   "metadata": {},
   "source": [
    "Merge in metadata for games, description and tags"
   ]
  },
  {
   "cell_type": "code",
   "execution_count": 19,
   "id": "797630fb",
   "metadata": {},
   "outputs": [
    {
     "data": {
      "text/html": [
       "<div>\n",
       "<style scoped>\n",
       "    .dataframe tbody tr th:only-of-type {\n",
       "        vertical-align: middle;\n",
       "    }\n",
       "\n",
       "    .dataframe tbody tr th {\n",
       "        vertical-align: top;\n",
       "    }\n",
       "\n",
       "    .dataframe thead th {\n",
       "        text-align: right;\n",
       "    }\n",
       "</style>\n",
       "<table border=\"1\" class=\"dataframe\">\n",
       "  <thead>\n",
       "    <tr style=\"text-align: right;\">\n",
       "      <th></th>\n",
       "      <th>app_id</th>\n",
       "      <th>description</th>\n",
       "      <th>tags</th>\n",
       "    </tr>\n",
       "  </thead>\n",
       "  <tbody>\n",
       "    <tr>\n",
       "      <th>0</th>\n",
       "      <td>13500</td>\n",
       "      <td>Enter the dark underworld of Prince of Persia ...</td>\n",
       "      <td>[Action, Adventure, Parkour, Third Person, Gre...</td>\n",
       "    </tr>\n",
       "    <tr>\n",
       "      <th>1</th>\n",
       "      <td>22364</td>\n",
       "      <td></td>\n",
       "      <td>[Action]</td>\n",
       "    </tr>\n",
       "    <tr>\n",
       "      <th>2</th>\n",
       "      <td>113020</td>\n",
       "      <td>Monaco: What's Yours Is Mine is a single playe...</td>\n",
       "      <td>[Co-op, Stealth, Indie, Heist, Local Co-Op, St...</td>\n",
       "    </tr>\n",
       "    <tr>\n",
       "      <th>3</th>\n",
       "      <td>226560</td>\n",
       "      <td>Escape Dead Island is a Survival-Mystery adven...</td>\n",
       "      <td>[Zombies, Adventure, Survival, Action, Third P...</td>\n",
       "    </tr>\n",
       "    <tr>\n",
       "      <th>4</th>\n",
       "      <td>249050</td>\n",
       "      <td>Dungeon of the Endless is a Rogue-Like Dungeon...</td>\n",
       "      <td>[Roguelike, Strategy, Tower Defense, Pixel Gra...</td>\n",
       "    </tr>\n",
       "  </tbody>\n",
       "</table>\n",
       "</div>"
      ],
      "text/plain": [
       "   app_id                                        description  \\\n",
       "0   13500  Enter the dark underworld of Prince of Persia ...   \n",
       "1   22364                                                      \n",
       "2  113020  Monaco: What's Yours Is Mine is a single playe...   \n",
       "3  226560  Escape Dead Island is a Survival-Mystery adven...   \n",
       "4  249050  Dungeon of the Endless is a Rogue-Like Dungeon...   \n",
       "\n",
       "                                                tags  \n",
       "0  [Action, Adventure, Parkour, Third Person, Gre...  \n",
       "1                                           [Action]  \n",
       "2  [Co-op, Stealth, Indie, Heist, Local Co-Op, St...  \n",
       "3  [Zombies, Adventure, Survival, Action, Third P...  \n",
       "4  [Roguelike, Strategy, Tower Defense, Pixel Gra...  "
      ]
     },
     "execution_count": 19,
     "metadata": {},
     "output_type": "execute_result"
    }
   ],
   "source": [
    "metadata = pd.read_json(DATA + \"games_metadata.json\", lines=True)\n",
    "# ensure that the tags column is a Python list, so we can use it as such later\n",
    "metadata['tags'] = metadata['tags'].apply(\n",
    "    lambda x: ast.literal_eval(x) if isinstance(x, str) else x\n",
    "    )\n",
    "\n",
    "metadata.head()"
   ]
  },
  {
   "cell_type": "code",
   "execution_count": 20,
   "id": "478f0ea5",
   "metadata": {},
   "outputs": [],
   "source": [
    "# merge tags and description to games\n",
    "games_metadata = pd.merge(games, metadata, on='app_id', how='left')"
   ]
  },
  {
   "cell_type": "code",
   "execution_count": 21,
   "id": "92b6247f",
   "metadata": {},
   "outputs": [
    {
     "data": {
      "text/plain": [
       "Index(['app_id', 'title', 'positive_ratio', 'user_reviews', 'hours',\n",
       "       'success_score', 'positive_ratio_points', 'user_reviews_points',\n",
       "       'hours_points', 'description',\n",
       "       ...\n",
       "       'Well-Written', 'Werewolves', 'Western', 'Wholesome', 'Word Game',\n",
       "       'World War I', 'World War II', 'Wrestling', 'Zombies', 'eSports'],\n",
       "      dtype='object', length=452)"
      ]
     },
     "execution_count": 21,
     "metadata": {},
     "output_type": "execute_result"
    }
   ],
   "source": [
    "def binarize_tags(df: pd.DataFrame, tag_column: str) -> pd.DataFrame:\n",
    "    \"\"\"\n",
    "    Transforms a DataFrame column containing a JSON list of tags into multiple binary columns, one for each unique tag. \n",
    "    Use sklearn MultiLabelBinarizer for perfomance\n",
    "    \n",
    "    Args:\n",
    "    df (pd.DataFrame): An input pandas DataFrame that contains tags column\n",
    "    tag_column (str): The string name of the column containing tags\n",
    "    \n",
    "    Returns:\n",
    "    pd.DataFrame: A new DataFrame object with original columns plus binary column for each unique tag. \n",
    "    \"\"\"\n",
    "    df_copy = df.copy()\n",
    "    \n",
    "    mlb = MultiLabelBinarizer()\n",
    "    binarized_data = mlb.fit_transform(df_copy[tag_column])\n",
    "\n",
    "    df_binarized_tags = pd.DataFrame(binarized_data, columns=mlb.classes_, index=df_copy.index)\n",
    "\n",
    "    df_final = pd.concat([df_copy, df_binarized_tags], axis=1)\n",
    "    return df_final\n",
    "\n",
    "# pivot each unique tag into a binary column where 1 if tag present\n",
    "games_metadata = binarize_tags(games_metadata, 'tags')\n",
    "games_metadata.columns"
   ]
  },
  {
   "cell_type": "code",
   "execution_count": 22,
   "id": "e5736444",
   "metadata": {},
   "outputs": [],
   "source": [
    "# consider only tags for PCA\n",
    "exclude_columns = ['app_id',\n",
    "                   'title',\n",
    "                   'description',\n",
    "                   'tags',\n",
    "                   'positive_ratio',\n",
    "                   'user_reviews', \n",
    "                   'tags', \n",
    "                   'success_score',\n",
    "                   'positive_ratio_points',\n",
    "                   'user_review_points',\n",
    "                   'hours_points'\n",
    "                   ]\n",
    "pca_features = games_metadata.loc[:, ~games_metadata.columns.isin(exclude_columns)]\n",
    "\n",
    "# Standardize the features \n",
    "scaler = StandardScaler()\n",
    "pca_features_standardized = scaler.fit_transform(pca_features)\n"
   ]
  },
  {
   "cell_type": "markdown",
   "id": "67e295d4",
   "metadata": {},
   "source": [
    "First we run PCA with the maximum number of components, 443. We will plot the explained variance by each principal component and the cumulative explained variance by all principal components, looking for at minimum 80% but hopefully more "
   ]
  },
  {
   "cell_type": "code",
   "execution_count": 25,
   "id": "ed1beadb",
   "metadata": {},
   "outputs": [
    {
     "data": {
      "text/html": [
       "<div>\n",
       "<style scoped>\n",
       "    .dataframe tbody tr th:only-of-type {\n",
       "        vertical-align: middle;\n",
       "    }\n",
       "\n",
       "    .dataframe tbody tr th {\n",
       "        vertical-align: top;\n",
       "    }\n",
       "\n",
       "    .dataframe thead th {\n",
       "        text-align: right;\n",
       "    }\n",
       "</style>\n",
       "<table border=\"1\" class=\"dataframe\">\n",
       "  <thead>\n",
       "    <tr style=\"text-align: right;\">\n",
       "      <th></th>\n",
       "      <th>PC1</th>\n",
       "      <th>PC2</th>\n",
       "      <th>PC3</th>\n",
       "      <th>PC4</th>\n",
       "      <th>PC5</th>\n",
       "      <th>PC6</th>\n",
       "      <th>PC7</th>\n",
       "      <th>PC8</th>\n",
       "      <th>PC9</th>\n",
       "      <th>PC10</th>\n",
       "      <th>...</th>\n",
       "      <th>PC434</th>\n",
       "      <th>PC435</th>\n",
       "      <th>PC436</th>\n",
       "      <th>PC437</th>\n",
       "      <th>PC438</th>\n",
       "      <th>PC439</th>\n",
       "      <th>PC440</th>\n",
       "      <th>PC441</th>\n",
       "      <th>PC442</th>\n",
       "      <th>PC443</th>\n",
       "    </tr>\n",
       "  </thead>\n",
       "  <tbody>\n",
       "    <tr>\n",
       "      <th>0</th>\n",
       "      <td>3.735801</td>\n",
       "      <td>1.265086</td>\n",
       "      <td>2.842077</td>\n",
       "      <td>0.614051</td>\n",
       "      <td>-1.646951</td>\n",
       "      <td>-1.077142</td>\n",
       "      <td>1.096822</td>\n",
       "      <td>0.190526</td>\n",
       "      <td>-0.705343</td>\n",
       "      <td>4.050975</td>\n",
       "      <td>...</td>\n",
       "      <td>-0.135181</td>\n",
       "      <td>-0.466190</td>\n",
       "      <td>0.792611</td>\n",
       "      <td>0.246433</td>\n",
       "      <td>-0.006247</td>\n",
       "      <td>-0.252255</td>\n",
       "      <td>1.095552</td>\n",
       "      <td>1.835126</td>\n",
       "      <td>-0.138584</td>\n",
       "      <td>-0.827112</td>\n",
       "    </tr>\n",
       "    <tr>\n",
       "      <th>1</th>\n",
       "      <td>-2.239288</td>\n",
       "      <td>-1.906882</td>\n",
       "      <td>0.458935</td>\n",
       "      <td>0.269194</td>\n",
       "      <td>-0.142058</td>\n",
       "      <td>-0.501294</td>\n",
       "      <td>0.223758</td>\n",
       "      <td>-0.400933</td>\n",
       "      <td>-0.220301</td>\n",
       "      <td>0.280677</td>\n",
       "      <td>...</td>\n",
       "      <td>-0.072837</td>\n",
       "      <td>-0.064904</td>\n",
       "      <td>0.033169</td>\n",
       "      <td>-0.045894</td>\n",
       "      <td>-0.016603</td>\n",
       "      <td>-0.020348</td>\n",
       "      <td>0.093343</td>\n",
       "      <td>0.100402</td>\n",
       "      <td>0.042672</td>\n",
       "      <td>-0.076909</td>\n",
       "    </tr>\n",
       "    <tr>\n",
       "      <th>2</th>\n",
       "      <td>0.437544</td>\n",
       "      <td>3.500451</td>\n",
       "      <td>3.151625</td>\n",
       "      <td>1.149228</td>\n",
       "      <td>-0.702902</td>\n",
       "      <td>1.803340</td>\n",
       "      <td>-1.215951</td>\n",
       "      <td>0.479158</td>\n",
       "      <td>-0.777362</td>\n",
       "      <td>-0.165502</td>\n",
       "      <td>...</td>\n",
       "      <td>-0.914808</td>\n",
       "      <td>0.139477</td>\n",
       "      <td>-0.278862</td>\n",
       "      <td>0.078708</td>\n",
       "      <td>0.116335</td>\n",
       "      <td>0.676594</td>\n",
       "      <td>0.593609</td>\n",
       "      <td>0.303101</td>\n",
       "      <td>-0.005005</td>\n",
       "      <td>0.066598</td>\n",
       "    </tr>\n",
       "    <tr>\n",
       "      <th>3</th>\n",
       "      <td>1.338139</td>\n",
       "      <td>1.982501</td>\n",
       "      <td>3.362377</td>\n",
       "      <td>-1.295898</td>\n",
       "      <td>-5.715716</td>\n",
       "      <td>0.796349</td>\n",
       "      <td>1.103081</td>\n",
       "      <td>1.429104</td>\n",
       "      <td>-1.838489</td>\n",
       "      <td>-0.171953</td>\n",
       "      <td>...</td>\n",
       "      <td>0.695493</td>\n",
       "      <td>0.483807</td>\n",
       "      <td>-0.995928</td>\n",
       "      <td>0.855831</td>\n",
       "      <td>0.166023</td>\n",
       "      <td>-0.337965</td>\n",
       "      <td>0.638081</td>\n",
       "      <td>1.995829</td>\n",
       "      <td>-1.483789</td>\n",
       "      <td>0.124196</td>\n",
       "    </tr>\n",
       "    <tr>\n",
       "      <th>4</th>\n",
       "      <td>0.111637</td>\n",
       "      <td>4.848265</td>\n",
       "      <td>-0.712946</td>\n",
       "      <td>4.330792</td>\n",
       "      <td>-0.177719</td>\n",
       "      <td>-2.851206</td>\n",
       "      <td>4.291197</td>\n",
       "      <td>-0.781963</td>\n",
       "      <td>1.212417</td>\n",
       "      <td>-4.008059</td>\n",
       "      <td>...</td>\n",
       "      <td>0.917894</td>\n",
       "      <td>0.854933</td>\n",
       "      <td>-0.799525</td>\n",
       "      <td>0.312763</td>\n",
       "      <td>0.147780</td>\n",
       "      <td>-1.826429</td>\n",
       "      <td>-0.206281</td>\n",
       "      <td>0.183897</td>\n",
       "      <td>0.239538</td>\n",
       "      <td>0.278919</td>\n",
       "    </tr>\n",
       "  </tbody>\n",
       "</table>\n",
       "<p>5 rows × 443 columns</p>\n",
       "</div>"
      ],
      "text/plain": [
       "        PC1       PC2       PC3       PC4       PC5       PC6       PC7  \\\n",
       "0  3.735801  1.265086  2.842077  0.614051 -1.646951 -1.077142  1.096822   \n",
       "1 -2.239288 -1.906882  0.458935  0.269194 -0.142058 -0.501294  0.223758   \n",
       "2  0.437544  3.500451  3.151625  1.149228 -0.702902  1.803340 -1.215951   \n",
       "3  1.338139  1.982501  3.362377 -1.295898 -5.715716  0.796349  1.103081   \n",
       "4  0.111637  4.848265 -0.712946  4.330792 -0.177719 -2.851206  4.291197   \n",
       "\n",
       "        PC8       PC9      PC10  ...     PC434     PC435     PC436     PC437  \\\n",
       "0  0.190526 -0.705343  4.050975  ... -0.135181 -0.466190  0.792611  0.246433   \n",
       "1 -0.400933 -0.220301  0.280677  ... -0.072837 -0.064904  0.033169 -0.045894   \n",
       "2  0.479158 -0.777362 -0.165502  ... -0.914808  0.139477 -0.278862  0.078708   \n",
       "3  1.429104 -1.838489 -0.171953  ...  0.695493  0.483807 -0.995928  0.855831   \n",
       "4 -0.781963  1.212417 -4.008059  ...  0.917894  0.854933 -0.799525  0.312763   \n",
       "\n",
       "      PC438     PC439     PC440     PC441     PC442     PC443  \n",
       "0 -0.006247 -0.252255  1.095552  1.835126 -0.138584 -0.827112  \n",
       "1 -0.016603 -0.020348  0.093343  0.100402  0.042672 -0.076909  \n",
       "2  0.116335  0.676594  0.593609  0.303101 -0.005005  0.066598  \n",
       "3  0.166023 -0.337965  0.638081  1.995829 -1.483789  0.124196  \n",
       "4  0.147780 -1.826429 -0.206281  0.183897  0.239538  0.278919  \n",
       "\n",
       "[5 rows x 443 columns]"
      ]
     },
     "execution_count": 25,
     "metadata": {},
     "output_type": "execute_result"
    }
   ],
   "source": [
    "from sklearn.decomposition import PCA\n",
    "\n",
    "pca = PCA(n_components=443)\n",
    "games_pca = pca.fit_transform(pca_features_standardized)\n",
    "games_pca = pd.DataFrame(games_pca)\n",
    "pca_columns = ['PC' + str(i) for i in range(1, len(games_pca.columns) + 1)]\n",
    "games_pca.columns = pca_columns\n",
    "games_pca.head()"
   ]
  },
  {
   "cell_type": "code",
   "execution_count": 26,
   "id": "f95aa482",
   "metadata": {},
   "outputs": [
    {
     "name": "stdout",
     "output_type": "stream",
     "text": [
      "       Explained Variance\n",
      "PC1              0.015481\n",
      "PC2              0.014727\n",
      "PC3              0.013054\n",
      "PC4              0.011930\n",
      "PC5              0.011462\n",
      "...                   ...\n",
      "PC439            0.000761\n",
      "PC440            0.000753\n",
      "PC441            0.000749\n",
      "PC442            0.000742\n",
      "PC443            0.000738\n",
      "\n",
      "[443 rows x 1 columns]\n"
     ]
    }
   ],
   "source": [
    "pca_variances = pca.explained_variance_ratio_\n",
    "pca_variances = pd.DataFrame(pca_variances)\n",
    "pca_variances.columns = ['Explained Variance']\n",
    "pca_variances.index = pca_columns\n",
    "print(pca_variances)"
   ]
  },
  {
   "cell_type": "code",
   "execution_count": 27,
   "id": "498b483d",
   "metadata": {},
   "outputs": [
    {
     "data": {
      "text/html": [
       "<div>\n",
       "<style scoped>\n",
       "    .dataframe tbody tr th:only-of-type {\n",
       "        vertical-align: middle;\n",
       "    }\n",
       "\n",
       "    .dataframe tbody tr th {\n",
       "        vertical-align: top;\n",
       "    }\n",
       "\n",
       "    .dataframe thead th {\n",
       "        text-align: right;\n",
       "    }\n",
       "</style>\n",
       "<table border=\"1\" class=\"dataframe\">\n",
       "  <thead>\n",
       "    <tr style=\"text-align: right;\">\n",
       "      <th></th>\n",
       "      <th>Explained Variance</th>\n",
       "      <th>Cumulative Variance</th>\n",
       "    </tr>\n",
       "  </thead>\n",
       "  <tbody>\n",
       "    <tr>\n",
       "      <th>PC1</th>\n",
       "      <td>0.015481</td>\n",
       "      <td>0.015481</td>\n",
       "    </tr>\n",
       "    <tr>\n",
       "      <th>PC2</th>\n",
       "      <td>0.014727</td>\n",
       "      <td>0.030208</td>\n",
       "    </tr>\n",
       "    <tr>\n",
       "      <th>PC3</th>\n",
       "      <td>0.013054</td>\n",
       "      <td>0.043261</td>\n",
       "    </tr>\n",
       "    <tr>\n",
       "      <th>PC4</th>\n",
       "      <td>0.011930</td>\n",
       "      <td>0.055192</td>\n",
       "    </tr>\n",
       "    <tr>\n",
       "      <th>PC5</th>\n",
       "      <td>0.011462</td>\n",
       "      <td>0.066653</td>\n",
       "    </tr>\n",
       "  </tbody>\n",
       "</table>\n",
       "</div>"
      ],
      "text/plain": [
       "     Explained Variance  Cumulative Variance\n",
       "PC1            0.015481             0.015481\n",
       "PC2            0.014727             0.030208\n",
       "PC3            0.013054             0.043261\n",
       "PC4            0.011930             0.055192\n",
       "PC5            0.011462             0.066653"
      ]
     },
     "execution_count": 27,
     "metadata": {},
     "output_type": "execute_result"
    }
   ],
   "source": [
    "games_pca['Cumulative Variance'] = games_pca.sum(axis=1)\n",
    "games_pca.head()\n",
    "\n",
    "pca_variances['Cumulative Variance'] = pca_variances['Explained Variance'].cumsum()\n",
    "pca_variances.head()\n"
   ]
  },
  {
   "cell_type": "code",
   "execution_count": 28,
   "id": "25b6fc13",
   "metadata": {},
   "outputs": [
    {
     "data": {
      "application/vnd.plotly.v1+json": {
       "config": {
        "plotlyServerURL": "https://plot.ly"
       },
       "data": [
        {
         "hovertemplate": "x=%{x}<br>Explained Variance=%{y}<extra></extra>",
         "legendgroup": "",
         "marker": {
          "color": "rgb(251,180,174)",
          "pattern": {
           "shape": ""
          }
         },
         "name": "",
         "orientation": "v",
         "showlegend": false,
         "textposition": "auto",
         "type": "bar",
         "x": [
          "PC1",
          "PC2",
          "PC3",
          "PC4",
          "PC5",
          "PC6",
          "PC7",
          "PC8",
          "PC9",
          "PC10",
          "PC11",
          "PC12",
          "PC13",
          "PC14",
          "PC15",
          "PC16",
          "PC17",
          "PC18",
          "PC19",
          "PC20",
          "PC21",
          "PC22",
          "PC23",
          "PC24",
          "PC25",
          "PC26",
          "PC27",
          "PC28",
          "PC29",
          "PC30",
          "PC31",
          "PC32",
          "PC33",
          "PC34",
          "PC35",
          "PC36",
          "PC37",
          "PC38",
          "PC39",
          "PC40",
          "PC41",
          "PC42",
          "PC43",
          "PC44",
          "PC45",
          "PC46",
          "PC47",
          "PC48",
          "PC49",
          "PC50",
          "PC51",
          "PC52",
          "PC53",
          "PC54",
          "PC55",
          "PC56",
          "PC57",
          "PC58",
          "PC59",
          "PC60",
          "PC61",
          "PC62",
          "PC63",
          "PC64",
          "PC65",
          "PC66",
          "PC67",
          "PC68",
          "PC69",
          "PC70",
          "PC71",
          "PC72",
          "PC73",
          "PC74",
          "PC75",
          "PC76",
          "PC77",
          "PC78",
          "PC79",
          "PC80",
          "PC81",
          "PC82",
          "PC83",
          "PC84",
          "PC85",
          "PC86",
          "PC87",
          "PC88",
          "PC89",
          "PC90",
          "PC91",
          "PC92",
          "PC93",
          "PC94",
          "PC95",
          "PC96",
          "PC97",
          "PC98",
          "PC99",
          "PC100",
          "PC101",
          "PC102",
          "PC103",
          "PC104",
          "PC105",
          "PC106",
          "PC107",
          "PC108",
          "PC109",
          "PC110",
          "PC111",
          "PC112",
          "PC113",
          "PC114",
          "PC115",
          "PC116",
          "PC117",
          "PC118",
          "PC119",
          "PC120",
          "PC121",
          "PC122",
          "PC123",
          "PC124",
          "PC125",
          "PC126",
          "PC127",
          "PC128",
          "PC129",
          "PC130",
          "PC131",
          "PC132",
          "PC133",
          "PC134",
          "PC135",
          "PC136",
          "PC137",
          "PC138",
          "PC139",
          "PC140",
          "PC141",
          "PC142",
          "PC143",
          "PC144",
          "PC145",
          "PC146",
          "PC147",
          "PC148",
          "PC149",
          "PC150",
          "PC151",
          "PC152",
          "PC153",
          "PC154",
          "PC155",
          "PC156",
          "PC157",
          "PC158",
          "PC159",
          "PC160",
          "PC161",
          "PC162",
          "PC163",
          "PC164",
          "PC165",
          "PC166",
          "PC167",
          "PC168",
          "PC169",
          "PC170",
          "PC171",
          "PC172",
          "PC173",
          "PC174",
          "PC175",
          "PC176",
          "PC177",
          "PC178",
          "PC179",
          "PC180",
          "PC181",
          "PC182",
          "PC183",
          "PC184",
          "PC185",
          "PC186",
          "PC187",
          "PC188",
          "PC189",
          "PC190",
          "PC191",
          "PC192",
          "PC193",
          "PC194",
          "PC195",
          "PC196",
          "PC197",
          "PC198",
          "PC199",
          "PC200",
          "PC201",
          "PC202",
          "PC203",
          "PC204",
          "PC205",
          "PC206",
          "PC207",
          "PC208",
          "PC209",
          "PC210",
          "PC211",
          "PC212",
          "PC213",
          "PC214",
          "PC215",
          "PC216",
          "PC217",
          "PC218",
          "PC219",
          "PC220",
          "PC221",
          "PC222",
          "PC223",
          "PC224",
          "PC225",
          "PC226",
          "PC227",
          "PC228",
          "PC229",
          "PC230",
          "PC231",
          "PC232",
          "PC233",
          "PC234",
          "PC235",
          "PC236",
          "PC237",
          "PC238",
          "PC239",
          "PC240",
          "PC241",
          "PC242",
          "PC243",
          "PC244",
          "PC245",
          "PC246",
          "PC247",
          "PC248",
          "PC249",
          "PC250",
          "PC251",
          "PC252",
          "PC253",
          "PC254",
          "PC255",
          "PC256",
          "PC257",
          "PC258",
          "PC259",
          "PC260",
          "PC261",
          "PC262",
          "PC263",
          "PC264",
          "PC265",
          "PC266",
          "PC267",
          "PC268",
          "PC269",
          "PC270",
          "PC271",
          "PC272",
          "PC273",
          "PC274",
          "PC275",
          "PC276",
          "PC277",
          "PC278",
          "PC279",
          "PC280",
          "PC281",
          "PC282",
          "PC283",
          "PC284",
          "PC285",
          "PC286",
          "PC287",
          "PC288",
          "PC289",
          "PC290",
          "PC291",
          "PC292",
          "PC293",
          "PC294",
          "PC295",
          "PC296",
          "PC297",
          "PC298",
          "PC299",
          "PC300",
          "PC301",
          "PC302",
          "PC303",
          "PC304",
          "PC305",
          "PC306",
          "PC307",
          "PC308",
          "PC309",
          "PC310",
          "PC311",
          "PC312",
          "PC313",
          "PC314",
          "PC315",
          "PC316",
          "PC317",
          "PC318",
          "PC319",
          "PC320",
          "PC321",
          "PC322",
          "PC323",
          "PC324",
          "PC325",
          "PC326",
          "PC327",
          "PC328",
          "PC329",
          "PC330",
          "PC331",
          "PC332",
          "PC333",
          "PC334",
          "PC335",
          "PC336",
          "PC337",
          "PC338",
          "PC339",
          "PC340",
          "PC341",
          "PC342",
          "PC343",
          "PC344",
          "PC345",
          "PC346",
          "PC347",
          "PC348",
          "PC349",
          "PC350",
          "PC351",
          "PC352",
          "PC353",
          "PC354",
          "PC355",
          "PC356",
          "PC357",
          "PC358",
          "PC359",
          "PC360",
          "PC361",
          "PC362",
          "PC363",
          "PC364",
          "PC365",
          "PC366",
          "PC367",
          "PC368",
          "PC369",
          "PC370",
          "PC371",
          "PC372",
          "PC373",
          "PC374",
          "PC375",
          "PC376",
          "PC377",
          "PC378",
          "PC379",
          "PC380",
          "PC381",
          "PC382",
          "PC383",
          "PC384",
          "PC385",
          "PC386",
          "PC387",
          "PC388",
          "PC389",
          "PC390",
          "PC391",
          "PC392",
          "PC393",
          "PC394",
          "PC395",
          "PC396",
          "PC397",
          "PC398",
          "PC399",
          "PC400",
          "PC401",
          "PC402",
          "PC403",
          "PC404",
          "PC405",
          "PC406",
          "PC407",
          "PC408",
          "PC409",
          "PC410",
          "PC411",
          "PC412",
          "PC413",
          "PC414",
          "PC415",
          "PC416",
          "PC417",
          "PC418",
          "PC419",
          "PC420",
          "PC421",
          "PC422",
          "PC423",
          "PC424",
          "PC425",
          "PC426",
          "PC427",
          "PC428",
          "PC429",
          "PC430",
          "PC431",
          "PC432",
          "PC433",
          "PC434",
          "PC435",
          "PC436",
          "PC437",
          "PC438",
          "PC439",
          "PC440",
          "PC441",
          "PC442",
          "PC443"
         ],
         "xaxis": "x",
         "y": {
          "bdata": "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",
          "dtype": "f8"
         },
         "yaxis": "y"
        }
       ],
       "layout": {
        "barmode": "relative",
        "legend": {
         "tracegroupgap": 0
        },
        "template": {
         "data": {
          "bar": [
           {
            "error_x": {
             "color": "#2a3f5f"
            },
            "error_y": {
             "color": "#2a3f5f"
            },
            "marker": {
             "line": {
              "color": "#E5ECF6",
              "width": 0.5
             },
             "pattern": {
              "fillmode": "overlay",
              "size": 10,
              "solidity": 0.2
             }
            },
            "type": "bar"
           }
          ],
          "barpolar": [
           {
            "marker": {
             "line": {
              "color": "#E5ECF6",
              "width": 0.5
             },
             "pattern": {
              "fillmode": "overlay",
              "size": 10,
              "solidity": 0.2
             }
            },
            "type": "barpolar"
           }
          ],
          "carpet": [
           {
            "aaxis": {
             "endlinecolor": "#2a3f5f",
             "gridcolor": "white",
             "linecolor": "white",
             "minorgridcolor": "white",
             "startlinecolor": "#2a3f5f"
            },
            "baxis": {
             "endlinecolor": "#2a3f5f",
             "gridcolor": "white",
             "linecolor": "white",
             "minorgridcolor": "white",
             "startlinecolor": "#2a3f5f"
            },
            "type": "carpet"
           }
          ],
          "choropleth": [
           {
            "colorbar": {
             "outlinewidth": 0,
             "ticks": ""
            },
            "type": "choropleth"
           }
          ],
          "contour": [
           {
            "colorbar": {
             "outlinewidth": 0,
             "ticks": ""
            },
            "colorscale": [
             [
              0,
              "#0d0887"
             ],
             [
              0.1111111111111111,
              "#46039f"
             ],
             [
              0.2222222222222222,
              "#7201a8"
             ],
             [
              0.3333333333333333,
              "#9c179e"
             ],
             [
              0.4444444444444444,
              "#bd3786"
             ],
             [
              0.5555555555555556,
              "#d8576b"
             ],
             [
              0.6666666666666666,
              "#ed7953"
             ],
             [
              0.7777777777777778,
              "#fb9f3a"
             ],
             [
              0.8888888888888888,
              "#fdca26"
             ],
             [
              1,
              "#f0f921"
             ]
            ],
            "type": "contour"
           }
          ],
          "contourcarpet": [
           {
            "colorbar": {
             "outlinewidth": 0,
             "ticks": ""
            },
            "type": "contourcarpet"
           }
          ],
          "heatmap": [
           {
            "colorbar": {
             "outlinewidth": 0,
             "ticks": ""
            },
            "colorscale": [
             [
              0,
              "#0d0887"
             ],
             [
              0.1111111111111111,
              "#46039f"
             ],
             [
              0.2222222222222222,
              "#7201a8"
             ],
             [
              0.3333333333333333,
              "#9c179e"
             ],
             [
              0.4444444444444444,
              "#bd3786"
             ],
             [
              0.5555555555555556,
              "#d8576b"
             ],
             [
              0.6666666666666666,
              "#ed7953"
             ],
             [
              0.7777777777777778,
              "#fb9f3a"
             ],
             [
              0.8888888888888888,
              "#fdca26"
             ],
             [
              1,
              "#f0f921"
             ]
            ],
            "type": "heatmap"
           }
          ],
          "histogram": [
           {
            "marker": {
             "pattern": {
              "fillmode": "overlay",
              "size": 10,
              "solidity": 0.2
             }
            },
            "type": "histogram"
           }
          ],
          "histogram2d": [
           {
            "colorbar": {
             "outlinewidth": 0,
             "ticks": ""
            },
            "colorscale": [
             [
              0,
              "#0d0887"
             ],
             [
              0.1111111111111111,
              "#46039f"
             ],
             [
              0.2222222222222222,
              "#7201a8"
             ],
             [
              0.3333333333333333,
              "#9c179e"
             ],
             [
              0.4444444444444444,
              "#bd3786"
             ],
             [
              0.5555555555555556,
              "#d8576b"
             ],
             [
              0.6666666666666666,
              "#ed7953"
             ],
             [
              0.7777777777777778,
              "#fb9f3a"
             ],
             [
              0.8888888888888888,
              "#fdca26"
             ],
             [
              1,
              "#f0f921"
             ]
            ],
            "type": "histogram2d"
           }
          ],
          "histogram2dcontour": [
           {
            "colorbar": {
             "outlinewidth": 0,
             "ticks": ""
            },
            "colorscale": [
             [
              0,
              "#0d0887"
             ],
             [
              0.1111111111111111,
              "#46039f"
             ],
             [
              0.2222222222222222,
              "#7201a8"
             ],
             [
              0.3333333333333333,
              "#9c179e"
             ],
             [
              0.4444444444444444,
              "#bd3786"
             ],
             [
              0.5555555555555556,
              "#d8576b"
             ],
             [
              0.6666666666666666,
              "#ed7953"
             ],
             [
              0.7777777777777778,
              "#fb9f3a"
             ],
             [
              0.8888888888888888,
              "#fdca26"
             ],
             [
              1,
              "#f0f921"
             ]
            ],
            "type": "histogram2dcontour"
           }
          ],
          "mesh3d": [
           {
            "colorbar": {
             "outlinewidth": 0,
             "ticks": ""
            },
            "type": "mesh3d"
           }
          ],
          "parcoords": [
           {
            "line": {
             "colorbar": {
              "outlinewidth": 0,
              "ticks": ""
             }
            },
            "type": "parcoords"
           }
          ],
          "pie": [
           {
            "automargin": true,
            "type": "pie"
           }
          ],
          "scatter": [
           {
            "fillpattern": {
             "fillmode": "overlay",
             "size": 10,
             "solidity": 0.2
            },
            "type": "scatter"
           }
          ],
          "scatter3d": [
           {
            "line": {
             "colorbar": {
              "outlinewidth": 0,
              "ticks": ""
             }
            },
            "marker": {
             "colorbar": {
              "outlinewidth": 0,
              "ticks": ""
             }
            },
            "type": "scatter3d"
           }
          ],
          "scattercarpet": [
           {
            "marker": {
             "colorbar": {
              "outlinewidth": 0,
              "ticks": ""
             }
            },
            "type": "scattercarpet"
           }
          ],
          "scattergeo": [
           {
            "marker": {
             "colorbar": {
              "outlinewidth": 0,
              "ticks": ""
             }
            },
            "type": "scattergeo"
           }
          ],
          "scattergl": [
           {
            "marker": {
             "colorbar": {
              "outlinewidth": 0,
              "ticks": ""
             }
            },
            "type": "scattergl"
           }
          ],
          "scattermap": [
           {
            "marker": {
             "colorbar": {
              "outlinewidth": 0,
              "ticks": ""
             }
            },
            "type": "scattermap"
           }
          ],
          "scattermapbox": [
           {
            "marker": {
             "colorbar": {
              "outlinewidth": 0,
              "ticks": ""
             }
            },
            "type": "scattermapbox"
           }
          ],
          "scatterpolar": [
           {
            "marker": {
             "colorbar": {
              "outlinewidth": 0,
              "ticks": ""
             }
            },
            "type": "scatterpolar"
           }
          ],
          "scatterpolargl": [
           {
            "marker": {
             "colorbar": {
              "outlinewidth": 0,
              "ticks": ""
             }
            },
            "type": "scatterpolargl"
           }
          ],
          "scatterternary": [
           {
            "marker": {
             "colorbar": {
              "outlinewidth": 0,
              "ticks": ""
             }
            },
            "type": "scatterternary"
           }
          ],
          "surface": [
           {
            "colorbar": {
             "outlinewidth": 0,
             "ticks": ""
            },
            "colorscale": [
             [
              0,
              "#0d0887"
             ],
             [
              0.1111111111111111,
              "#46039f"
             ],
             [
              0.2222222222222222,
              "#7201a8"
             ],
             [
              0.3333333333333333,
              "#9c179e"
             ],
             [
              0.4444444444444444,
              "#bd3786"
             ],
             [
              0.5555555555555556,
              "#d8576b"
             ],
             [
              0.6666666666666666,
              "#ed7953"
             ],
             [
              0.7777777777777778,
              "#fb9f3a"
             ],
             [
              0.8888888888888888,
              "#fdca26"
             ],
             [
              1,
              "#f0f921"
             ]
            ],
            "type": "surface"
           }
          ],
          "table": [
           {
            "cells": {
             "fill": {
              "color": "#EBF0F8"
             },
             "line": {
              "color": "white"
             }
            },
            "header": {
             "fill": {
              "color": "#C8D4E3"
             },
             "line": {
              "color": "white"
             }
            },
            "type": "table"
           }
          ]
         },
         "layout": {
          "annotationdefaults": {
           "arrowcolor": "#2a3f5f",
           "arrowhead": 0,
           "arrowwidth": 1
          },
          "autotypenumbers": "strict",
          "coloraxis": {
           "colorbar": {
            "outlinewidth": 0,
            "ticks": ""
           }
          },
          "colorscale": {
           "diverging": [
            [
             0,
             "#8e0152"
            ],
            [
             0.1,
             "#c51b7d"
            ],
            [
             0.2,
             "#de77ae"
            ],
            [
             0.3,
             "#f1b6da"
            ],
            [
             0.4,
             "#fde0ef"
            ],
            [
             0.5,
             "#f7f7f7"
            ],
            [
             0.6,
             "#e6f5d0"
            ],
            [
             0.7,
             "#b8e186"
            ],
            [
             0.8,
             "#7fbc41"
            ],
            [
             0.9,
             "#4d9221"
            ],
            [
             1,
             "#276419"
            ]
           ],
           "sequential": [
            [
             0,
             "#0d0887"
            ],
            [
             0.1111111111111111,
             "#46039f"
            ],
            [
             0.2222222222222222,
             "#7201a8"
            ],
            [
             0.3333333333333333,
             "#9c179e"
            ],
            [
             0.4444444444444444,
             "#bd3786"
            ],
            [
             0.5555555555555556,
             "#d8576b"
            ],
            [
             0.6666666666666666,
             "#ed7953"
            ],
            [
             0.7777777777777778,
             "#fb9f3a"
            ],
            [
             0.8888888888888888,
             "#fdca26"
            ],
            [
             1,
             "#f0f921"
            ]
           ],
           "sequentialminus": [
            [
             0,
             "#0d0887"
            ],
            [
             0.1111111111111111,
             "#46039f"
            ],
            [
             0.2222222222222222,
             "#7201a8"
            ],
            [
             0.3333333333333333,
             "#9c179e"
            ],
            [
             0.4444444444444444,
             "#bd3786"
            ],
            [
             0.5555555555555556,
             "#d8576b"
            ],
            [
             0.6666666666666666,
             "#ed7953"
            ],
            [
             0.7777777777777778,
             "#fb9f3a"
            ],
            [
             0.8888888888888888,
             "#fdca26"
            ],
            [
             1,
             "#f0f921"
            ]
           ]
          },
          "colorway": [
           "#636efa",
           "#EF553B",
           "#00cc96",
           "#ab63fa",
           "#FFA15A",
           "#19d3f3",
           "#FF6692",
           "#B6E880",
           "#FF97FF",
           "#FECB52"
          ],
          "font": {
           "color": "#2a3f5f"
          },
          "geo": {
           "bgcolor": "white",
           "lakecolor": "white",
           "landcolor": "#E5ECF6",
           "showlakes": true,
           "showland": true,
           "subunitcolor": "white"
          },
          "hoverlabel": {
           "align": "left"
          },
          "hovermode": "closest",
          "mapbox": {
           "style": "light"
          },
          "paper_bgcolor": "white",
          "plot_bgcolor": "#E5ECF6",
          "polar": {
           "angularaxis": {
            "gridcolor": "white",
            "linecolor": "white",
            "ticks": ""
           },
           "bgcolor": "#E5ECF6",
           "radialaxis": {
            "gridcolor": "white",
            "linecolor": "white",
            "ticks": ""
           }
          },
          "scene": {
           "xaxis": {
            "backgroundcolor": "#E5ECF6",
            "gridcolor": "white",
            "gridwidth": 2,
            "linecolor": "white",
            "showbackground": true,
            "ticks": "",
            "zerolinecolor": "white"
           },
           "yaxis": {
            "backgroundcolor": "#E5ECF6",
            "gridcolor": "white",
            "gridwidth": 2,
            "linecolor": "white",
            "showbackground": true,
            "ticks": "",
            "zerolinecolor": "white"
           },
           "zaxis": {
            "backgroundcolor": "#E5ECF6",
            "gridcolor": "white",
            "gridwidth": 2,
            "linecolor": "white",
            "showbackground": true,
            "ticks": "",
            "zerolinecolor": "white"
           }
          },
          "shapedefaults": {
           "line": {
            "color": "#2a3f5f"
           }
          },
          "ternary": {
           "aaxis": {
            "gridcolor": "white",
            "linecolor": "white",
            "ticks": ""
           },
           "baxis": {
            "gridcolor": "white",
            "linecolor": "white",
            "ticks": ""
           },
           "bgcolor": "#E5ECF6",
           "caxis": {
            "gridcolor": "white",
            "linecolor": "white",
            "ticks": ""
           }
          },
          "title": {
           "x": 0.05
          },
          "xaxis": {
           "automargin": true,
           "gridcolor": "white",
           "linecolor": "white",
           "ticks": "",
           "title": {
            "standoff": 15
           },
           "zerolinecolor": "white",
           "zerolinewidth": 2
          },
          "yaxis": {
           "automargin": true,
           "gridcolor": "white",
           "linecolor": "white",
           "ticks": "",
           "title": {
            "standoff": 15
           },
           "zerolinecolor": "white",
           "zerolinewidth": 2
          }
         }
        },
        "title": {
         "text": "Explained Variance by PC"
        },
        "xaxis": {
         "anchor": "y",
         "domain": [
          0,
          1
         ],
         "title": {
          "text": "x"
         }
        },
        "yaxis": {
         "anchor": "x",
         "domain": [
          0,
          1
         ],
         "title": {
          "text": "Explained Variance"
         }
        }
       }
      }
     },
     "metadata": {},
     "output_type": "display_data"
    },
    {
     "data": {
      "application/vnd.plotly.v1+json": {
       "config": {
        "plotlyServerURL": "https://plot.ly"
       },
       "data": [
        {
         "hovertemplate": "x=%{x}<br>Cumulative Variance=%{y}<extra></extra>",
         "legendgroup": "",
         "marker": {
          "color": "rgb(251,180,174)",
          "pattern": {
           "shape": ""
          }
         },
         "name": "",
         "orientation": "v",
         "showlegend": false,
         "textposition": "auto",
         "type": "bar",
         "x": [
          "PC1",
          "PC2",
          "PC3",
          "PC4",
          "PC5",
          "PC6",
          "PC7",
          "PC8",
          "PC9",
          "PC10",
          "PC11",
          "PC12",
          "PC13",
          "PC14",
          "PC15",
          "PC16",
          "PC17",
          "PC18",
          "PC19",
          "PC20",
          "PC21",
          "PC22",
          "PC23",
          "PC24",
          "PC25",
          "PC26",
          "PC27",
          "PC28",
          "PC29",
          "PC30",
          "PC31",
          "PC32",
          "PC33",
          "PC34",
          "PC35",
          "PC36",
          "PC37",
          "PC38",
          "PC39",
          "PC40",
          "PC41",
          "PC42",
          "PC43",
          "PC44",
          "PC45",
          "PC46",
          "PC47",
          "PC48",
          "PC49",
          "PC50",
          "PC51",
          "PC52",
          "PC53",
          "PC54",
          "PC55",
          "PC56",
          "PC57",
          "PC58",
          "PC59",
          "PC60",
          "PC61",
          "PC62",
          "PC63",
          "PC64",
          "PC65",
          "PC66",
          "PC67",
          "PC68",
          "PC69",
          "PC70",
          "PC71",
          "PC72",
          "PC73",
          "PC74",
          "PC75",
          "PC76",
          "PC77",
          "PC78",
          "PC79",
          "PC80",
          "PC81",
          "PC82",
          "PC83",
          "PC84",
          "PC85",
          "PC86",
          "PC87",
          "PC88",
          "PC89",
          "PC90",
          "PC91",
          "PC92",
          "PC93",
          "PC94",
          "PC95",
          "PC96",
          "PC97",
          "PC98",
          "PC99",
          "PC100",
          "PC101",
          "PC102",
          "PC103",
          "PC104",
          "PC105",
          "PC106",
          "PC107",
          "PC108",
          "PC109",
          "PC110",
          "PC111",
          "PC112",
          "PC113",
          "PC114",
          "PC115",
          "PC116",
          "PC117",
          "PC118",
          "PC119",
          "PC120",
          "PC121",
          "PC122",
          "PC123",
          "PC124",
          "PC125",
          "PC126",
          "PC127",
          "PC128",
          "PC129",
          "PC130",
          "PC131",
          "PC132",
          "PC133",
          "PC134",
          "PC135",
          "PC136",
          "PC137",
          "PC138",
          "PC139",
          "PC140",
          "PC141",
          "PC142",
          "PC143",
          "PC144",
          "PC145",
          "PC146",
          "PC147",
          "PC148",
          "PC149",
          "PC150",
          "PC151",
          "PC152",
          "PC153",
          "PC154",
          "PC155",
          "PC156",
          "PC157",
          "PC158",
          "PC159",
          "PC160",
          "PC161",
          "PC162",
          "PC163",
          "PC164",
          "PC165",
          "PC166",
          "PC167",
          "PC168",
          "PC169",
          "PC170",
          "PC171",
          "PC172",
          "PC173",
          "PC174",
          "PC175",
          "PC176",
          "PC177",
          "PC178",
          "PC179",
          "PC180",
          "PC181",
          "PC182",
          "PC183",
          "PC184",
          "PC185",
          "PC186",
          "PC187",
          "PC188",
          "PC189",
          "PC190",
          "PC191",
          "PC192",
          "PC193",
          "PC194",
          "PC195",
          "PC196",
          "PC197",
          "PC198",
          "PC199",
          "PC200",
          "PC201",
          "PC202",
          "PC203",
          "PC204",
          "PC205",
          "PC206",
          "PC207",
          "PC208",
          "PC209",
          "PC210",
          "PC211",
          "PC212",
          "PC213",
          "PC214",
          "PC215",
          "PC216",
          "PC217",
          "PC218",
          "PC219",
          "PC220",
          "PC221",
          "PC222",
          "PC223",
          "PC224",
          "PC225",
          "PC226",
          "PC227",
          "PC228",
          "PC229",
          "PC230",
          "PC231",
          "PC232",
          "PC233",
          "PC234",
          "PC235",
          "PC236",
          "PC237",
          "PC238",
          "PC239",
          "PC240",
          "PC241",
          "PC242",
          "PC243",
          "PC244",
          "PC245",
          "PC246",
          "PC247",
          "PC248",
          "PC249",
          "PC250",
          "PC251",
          "PC252",
          "PC253",
          "PC254",
          "PC255",
          "PC256",
          "PC257",
          "PC258",
          "PC259",
          "PC260",
          "PC261",
          "PC262",
          "PC263",
          "PC264",
          "PC265",
          "PC266",
          "PC267",
          "PC268",
          "PC269",
          "PC270",
          "PC271",
          "PC272",
          "PC273",
          "PC274",
          "PC275",
          "PC276",
          "PC277",
          "PC278",
          "PC279",
          "PC280",
          "PC281",
          "PC282",
          "PC283",
          "PC284",
          "PC285",
          "PC286",
          "PC287",
          "PC288",
          "PC289",
          "PC290",
          "PC291",
          "PC292",
          "PC293",
          "PC294",
          "PC295",
          "PC296",
          "PC297",
          "PC298",
          "PC299",
          "PC300",
          "PC301",
          "PC302",
          "PC303",
          "PC304",
          "PC305",
          "PC306",
          "PC307",
          "PC308",
          "PC309",
          "PC310",
          "PC311",
          "PC312",
          "PC313",
          "PC314",
          "PC315",
          "PC316",
          "PC317",
          "PC318",
          "PC319",
          "PC320",
          "PC321",
          "PC322",
          "PC323",
          "PC324",
          "PC325",
          "PC326",
          "PC327",
          "PC328",
          "PC329",
          "PC330",
          "PC331",
          "PC332",
          "PC333",
          "PC334",
          "PC335",
          "PC336",
          "PC337",
          "PC338",
          "PC339",
          "PC340",
          "PC341",
          "PC342",
          "PC343",
          "PC344",
          "PC345",
          "PC346",
          "PC347",
          "PC348",
          "PC349",
          "PC350",
          "PC351",
          "PC352",
          "PC353",
          "PC354",
          "PC355",
          "PC356",
          "PC357",
          "PC358",
          "PC359",
          "PC360",
          "PC361",
          "PC362",
          "PC363",
          "PC364",
          "PC365",
          "PC366",
          "PC367",
          "PC368",
          "PC369",
          "PC370",
          "PC371",
          "PC372",
          "PC373",
          "PC374",
          "PC375",
          "PC376",
          "PC377",
          "PC378",
          "PC379",
          "PC380",
          "PC381",
          "PC382",
          "PC383",
          "PC384",
          "PC385",
          "PC386",
          "PC387",
          "PC388",
          "PC389",
          "PC390",
          "PC391",
          "PC392",
          "PC393",
          "PC394",
          "PC395",
          "PC396",
          "PC397",
          "PC398",
          "PC399",
          "PC400",
          "PC401",
          "PC402",
          "PC403",
          "PC404",
          "PC405",
          "PC406",
          "PC407",
          "PC408",
          "PC409",
          "PC410",
          "PC411",
          "PC412",
          "PC413",
          "PC414",
          "PC415",
          "PC416",
          "PC417",
          "PC418",
          "PC419",
          "PC420",
          "PC421",
          "PC422",
          "PC423",
          "PC424",
          "PC425",
          "PC426",
          "PC427",
          "PC428",
          "PC429",
          "PC430",
          "PC431",
          "PC432",
          "PC433",
          "PC434",
          "PC435",
          "PC436",
          "PC437",
          "PC438",
          "PC439",
          "PC440",
          "PC441",
          "PC442",
          "PC443"
         ],
         "xaxis": "x",
         "y": {
          "bdata": "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",
          "dtype": "f8"
         },
         "yaxis": "y"
        }
       ],
       "layout": {
        "barmode": "relative",
        "legend": {
         "tracegroupgap": 0
        },
        "template": {
         "data": {
          "bar": [
           {
            "error_x": {
             "color": "#2a3f5f"
            },
            "error_y": {
             "color": "#2a3f5f"
            },
            "marker": {
             "line": {
              "color": "#E5ECF6",
              "width": 0.5
             },
             "pattern": {
              "fillmode": "overlay",
              "size": 10,
              "solidity": 0.2
             }
            },
            "type": "bar"
           }
          ],
          "barpolar": [
           {
            "marker": {
             "line": {
              "color": "#E5ECF6",
              "width": 0.5
             },
             "pattern": {
              "fillmode": "overlay",
              "size": 10,
              "solidity": 0.2
             }
            },
            "type": "barpolar"
           }
          ],
          "carpet": [
           {
            "aaxis": {
             "endlinecolor": "#2a3f5f",
             "gridcolor": "white",
             "linecolor": "white",
             "minorgridcolor": "white",
             "startlinecolor": "#2a3f5f"
            },
            "baxis": {
             "endlinecolor": "#2a3f5f",
             "gridcolor": "white",
             "linecolor": "white",
             "minorgridcolor": "white",
             "startlinecolor": "#2a3f5f"
            },
            "type": "carpet"
           }
          ],
          "choropleth": [
           {
            "colorbar": {
             "outlinewidth": 0,
             "ticks": ""
            },
            "type": "choropleth"
           }
          ],
          "contour": [
           {
            "colorbar": {
             "outlinewidth": 0,
             "ticks": ""
            },
            "colorscale": [
             [
              0,
              "#0d0887"
             ],
             [
              0.1111111111111111,
              "#46039f"
             ],
             [
              0.2222222222222222,
              "#7201a8"
             ],
             [
              0.3333333333333333,
              "#9c179e"
             ],
             [
              0.4444444444444444,
              "#bd3786"
             ],
             [
              0.5555555555555556,
              "#d8576b"
             ],
             [
              0.6666666666666666,
              "#ed7953"
             ],
             [
              0.7777777777777778,
              "#fb9f3a"
             ],
             [
              0.8888888888888888,
              "#fdca26"
             ],
             [
              1,
              "#f0f921"
             ]
            ],
            "type": "contour"
           }
          ],
          "contourcarpet": [
           {
            "colorbar": {
             "outlinewidth": 0,
             "ticks": ""
            },
            "type": "contourcarpet"
           }
          ],
          "heatmap": [
           {
            "colorbar": {
             "outlinewidth": 0,
             "ticks": ""
            },
            "colorscale": [
             [
              0,
              "#0d0887"
             ],
             [
              0.1111111111111111,
              "#46039f"
             ],
             [
              0.2222222222222222,
              "#7201a8"
             ],
             [
              0.3333333333333333,
              "#9c179e"
             ],
             [
              0.4444444444444444,
              "#bd3786"
             ],
             [
              0.5555555555555556,
              "#d8576b"
             ],
             [
              0.6666666666666666,
              "#ed7953"
             ],
             [
              0.7777777777777778,
              "#fb9f3a"
             ],
             [
              0.8888888888888888,
              "#fdca26"
             ],
             [
              1,
              "#f0f921"
             ]
            ],
            "type": "heatmap"
           }
          ],
          "histogram": [
           {
            "marker": {
             "pattern": {
              "fillmode": "overlay",
              "size": 10,
              "solidity": 0.2
             }
            },
            "type": "histogram"
           }
          ],
          "histogram2d": [
           {
            "colorbar": {
             "outlinewidth": 0,
             "ticks": ""
            },
            "colorscale": [
             [
              0,
              "#0d0887"
             ],
             [
              0.1111111111111111,
              "#46039f"
             ],
             [
              0.2222222222222222,
              "#7201a8"
             ],
             [
              0.3333333333333333,
              "#9c179e"
             ],
             [
              0.4444444444444444,
              "#bd3786"
             ],
             [
              0.5555555555555556,
              "#d8576b"
             ],
             [
              0.6666666666666666,
              "#ed7953"
             ],
             [
              0.7777777777777778,
              "#fb9f3a"
             ],
             [
              0.8888888888888888,
              "#fdca26"
             ],
             [
              1,
              "#f0f921"
             ]
            ],
            "type": "histogram2d"
           }
          ],
          "histogram2dcontour": [
           {
            "colorbar": {
             "outlinewidth": 0,
             "ticks": ""
            },
            "colorscale": [
             [
              0,
              "#0d0887"
             ],
             [
              0.1111111111111111,
              "#46039f"
             ],
             [
              0.2222222222222222,
              "#7201a8"
             ],
             [
              0.3333333333333333,
              "#9c179e"
             ],
             [
              0.4444444444444444,
              "#bd3786"
             ],
             [
              0.5555555555555556,
              "#d8576b"
             ],
             [
              0.6666666666666666,
              "#ed7953"
             ],
             [
              0.7777777777777778,
              "#fb9f3a"
             ],
             [
              0.8888888888888888,
              "#fdca26"
             ],
             [
              1,
              "#f0f921"
             ]
            ],
            "type": "histogram2dcontour"
           }
          ],
          "mesh3d": [
           {
            "colorbar": {
             "outlinewidth": 0,
             "ticks": ""
            },
            "type": "mesh3d"
           }
          ],
          "parcoords": [
           {
            "line": {
             "colorbar": {
              "outlinewidth": 0,
              "ticks": ""
             }
            },
            "type": "parcoords"
           }
          ],
          "pie": [
           {
            "automargin": true,
            "type": "pie"
           }
          ],
          "scatter": [
           {
            "fillpattern": {
             "fillmode": "overlay",
             "size": 10,
             "solidity": 0.2
            },
            "type": "scatter"
           }
          ],
          "scatter3d": [
           {
            "line": {
             "colorbar": {
              "outlinewidth": 0,
              "ticks": ""
             }
            },
            "marker": {
             "colorbar": {
              "outlinewidth": 0,
              "ticks": ""
             }
            },
            "type": "scatter3d"
           }
          ],
          "scattercarpet": [
           {
            "marker": {
             "colorbar": {
              "outlinewidth": 0,
              "ticks": ""
             }
            },
            "type": "scattercarpet"
           }
          ],
          "scattergeo": [
           {
            "marker": {
             "colorbar": {
              "outlinewidth": 0,
              "ticks": ""
             }
            },
            "type": "scattergeo"
           }
          ],
          "scattergl": [
           {
            "marker": {
             "colorbar": {
              "outlinewidth": 0,
              "ticks": ""
             }
            },
            "type": "scattergl"
           }
          ],
          "scattermap": [
           {
            "marker": {
             "colorbar": {
              "outlinewidth": 0,
              "ticks": ""
             }
            },
            "type": "scattermap"
           }
          ],
          "scattermapbox": [
           {
            "marker": {
             "colorbar": {
              "outlinewidth": 0,
              "ticks": ""
             }
            },
            "type": "scattermapbox"
           }
          ],
          "scatterpolar": [
           {
            "marker": {
             "colorbar": {
              "outlinewidth": 0,
              "ticks": ""
             }
            },
            "type": "scatterpolar"
           }
          ],
          "scatterpolargl": [
           {
            "marker": {
             "colorbar": {
              "outlinewidth": 0,
              "ticks": ""
             }
            },
            "type": "scatterpolargl"
           }
          ],
          "scatterternary": [
           {
            "marker": {
             "colorbar": {
              "outlinewidth": 0,
              "ticks": ""
             }
            },
            "type": "scatterternary"
           }
          ],
          "surface": [
           {
            "colorbar": {
             "outlinewidth": 0,
             "ticks": ""
            },
            "colorscale": [
             [
              0,
              "#0d0887"
             ],
             [
              0.1111111111111111,
              "#46039f"
             ],
             [
              0.2222222222222222,
              "#7201a8"
             ],
             [
              0.3333333333333333,
              "#9c179e"
             ],
             [
              0.4444444444444444,
              "#bd3786"
             ],
             [
              0.5555555555555556,
              "#d8576b"
             ],
             [
              0.6666666666666666,
              "#ed7953"
             ],
             [
              0.7777777777777778,
              "#fb9f3a"
             ],
             [
              0.8888888888888888,
              "#fdca26"
             ],
             [
              1,
              "#f0f921"
             ]
            ],
            "type": "surface"
           }
          ],
          "table": [
           {
            "cells": {
             "fill": {
              "color": "#EBF0F8"
             },
             "line": {
              "color": "white"
             }
            },
            "header": {
             "fill": {
              "color": "#C8D4E3"
             },
             "line": {
              "color": "white"
             }
            },
            "type": "table"
           }
          ]
         },
         "layout": {
          "annotationdefaults": {
           "arrowcolor": "#2a3f5f",
           "arrowhead": 0,
           "arrowwidth": 1
          },
          "autotypenumbers": "strict",
          "coloraxis": {
           "colorbar": {
            "outlinewidth": 0,
            "ticks": ""
           }
          },
          "colorscale": {
           "diverging": [
            [
             0,
             "#8e0152"
            ],
            [
             0.1,
             "#c51b7d"
            ],
            [
             0.2,
             "#de77ae"
            ],
            [
             0.3,
             "#f1b6da"
            ],
            [
             0.4,
             "#fde0ef"
            ],
            [
             0.5,
             "#f7f7f7"
            ],
            [
             0.6,
             "#e6f5d0"
            ],
            [
             0.7,
             "#b8e186"
            ],
            [
             0.8,
             "#7fbc41"
            ],
            [
             0.9,
             "#4d9221"
            ],
            [
             1,
             "#276419"
            ]
           ],
           "sequential": [
            [
             0,
             "#0d0887"
            ],
            [
             0.1111111111111111,
             "#46039f"
            ],
            [
             0.2222222222222222,
             "#7201a8"
            ],
            [
             0.3333333333333333,
             "#9c179e"
            ],
            [
             0.4444444444444444,
             "#bd3786"
            ],
            [
             0.5555555555555556,
             "#d8576b"
            ],
            [
             0.6666666666666666,
             "#ed7953"
            ],
            [
             0.7777777777777778,
             "#fb9f3a"
            ],
            [
             0.8888888888888888,
             "#fdca26"
            ],
            [
             1,
             "#f0f921"
            ]
           ],
           "sequentialminus": [
            [
             0,
             "#0d0887"
            ],
            [
             0.1111111111111111,
             "#46039f"
            ],
            [
             0.2222222222222222,
             "#7201a8"
            ],
            [
             0.3333333333333333,
             "#9c179e"
            ],
            [
             0.4444444444444444,
             "#bd3786"
            ],
            [
             0.5555555555555556,
             "#d8576b"
            ],
            [
             0.6666666666666666,
             "#ed7953"
            ],
            [
             0.7777777777777778,
             "#fb9f3a"
            ],
            [
             0.8888888888888888,
             "#fdca26"
            ],
            [
             1,
             "#f0f921"
            ]
           ]
          },
          "colorway": [
           "#636efa",
           "#EF553B",
           "#00cc96",
           "#ab63fa",
           "#FFA15A",
           "#19d3f3",
           "#FF6692",
           "#B6E880",
           "#FF97FF",
           "#FECB52"
          ],
          "font": {
           "color": "#2a3f5f"
          },
          "geo": {
           "bgcolor": "white",
           "lakecolor": "white",
           "landcolor": "#E5ECF6",
           "showlakes": true,
           "showland": true,
           "subunitcolor": "white"
          },
          "hoverlabel": {
           "align": "left"
          },
          "hovermode": "closest",
          "mapbox": {
           "style": "light"
          },
          "paper_bgcolor": "white",
          "plot_bgcolor": "#E5ECF6",
          "polar": {
           "angularaxis": {
            "gridcolor": "white",
            "linecolor": "white",
            "ticks": ""
           },
           "bgcolor": "#E5ECF6",
           "radialaxis": {
            "gridcolor": "white",
            "linecolor": "white",
            "ticks": ""
           }
          },
          "scene": {
           "xaxis": {
            "backgroundcolor": "#E5ECF6",
            "gridcolor": "white",
            "gridwidth": 2,
            "linecolor": "white",
            "showbackground": true,
            "ticks": "",
            "zerolinecolor": "white"
           },
           "yaxis": {
            "backgroundcolor": "#E5ECF6",
            "gridcolor": "white",
            "gridwidth": 2,
            "linecolor": "white",
            "showbackground": true,
            "ticks": "",
            "zerolinecolor": "white"
           },
           "zaxis": {
            "backgroundcolor": "#E5ECF6",
            "gridcolor": "white",
            "gridwidth": 2,
            "linecolor": "white",
            "showbackground": true,
            "ticks": "",
            "zerolinecolor": "white"
           }
          },
          "shapedefaults": {
           "line": {
            "color": "#2a3f5f"
           }
          },
          "ternary": {
           "aaxis": {
            "gridcolor": "white",
            "linecolor": "white",
            "ticks": ""
           },
           "baxis": {
            "gridcolor": "white",
            "linecolor": "white",
            "ticks": ""
           },
           "bgcolor": "#E5ECF6",
           "caxis": {
            "gridcolor": "white",
            "linecolor": "white",
            "ticks": ""
           }
          },
          "title": {
           "x": 0.05
          },
          "xaxis": {
           "automargin": true,
           "gridcolor": "white",
           "linecolor": "white",
           "ticks": "",
           "title": {
            "standoff": 15
           },
           "zerolinecolor": "white",
           "zerolinewidth": 2
          },
          "yaxis": {
           "automargin": true,
           "gridcolor": "white",
           "linecolor": "white",
           "ticks": "",
           "title": {
            "standoff": 15
           },
           "zerolinecolor": "white",
           "zerolinewidth": 2
          }
         }
        },
        "title": {
         "text": "Cumulative Variance by PC"
        },
        "xaxis": {
         "anchor": "y",
         "domain": [
          0,
          1
         ],
         "title": {
          "text": "x"
         }
        },
        "yaxis": {
         "anchor": "x",
         "domain": [
          0,
          1
         ],
         "title": {
          "text": "Cumulative Variance"
         }
        }
       }
      }
     },
     "metadata": {},
     "output_type": "display_data"
    }
   ],
   "source": [
    "import plotly.express as px\n",
    "\n",
    "fig = px.bar(pca_variances, x=pca_columns, y='Explained Variance', title='Explained Variance by PC',\n",
    "             labels={'Explained Variance': 'Explained Variance', 'PC': 'PC'},\n",
    "             color_discrete_sequence=px.colors.qualitative.Pastel1)\n",
    "fig.show()\n",
    "fig = px.bar(pca_variances, x=pca_columns, y='Cumulative Variance', title='Cumulative Variance by PC',\n",
    "             labels={'Cumulative Variance': 'Cumulative Variance', 'PC': 'PC'},\n",
    "             color_discrete_sequence=px.colors.qualitative.Pastel1)\n",
    "fig.show()"
   ]
  },
  {
   "cell_type": "markdown",
   "id": "e1e51813",
   "metadata": {},
   "source": [
    "To retain 90% of the variance, we need 350 features, and to retain 80% of the variance 283 features. "
   ]
  },
  {
   "cell_type": "code",
   "execution_count": 29,
   "id": "1e890e1d",
   "metadata": {},
   "outputs": [],
   "source": [
    "pca = PCA(n_components=350)\n",
    "games_pca = pca.fit_transform(pca_features_standardized)\n",
    "games_pca = pd.DataFrame(games_pca)\n",
    "pca_columns = ['PC' + str(i) for i in range(1, len(games_pca.columns) + 1)]"
   ]
  },
  {
   "cell_type": "code",
   "execution_count": 30,
   "id": "c1c0c482",
   "metadata": {},
   "outputs": [],
   "source": [
    "loadings = pca.components_\n",
    "loadings = pd.DataFrame(loadings,\n",
    "                           columns=pca_features.columns,\n",
    "                           index=[f'PC{i+1}' for i in range(pca.n_components_)]\n",
    "                           )\n"
   ]
  },
  {
   "cell_type": "code",
   "execution_count": 31,
   "id": "e677005a",
   "metadata": {},
   "outputs": [
    {
     "name": "stdout",
     "output_type": "stream",
     "text": [
      "Component: 1\n",
      "Story Rich          0.221179\n",
      "Singleplayer        0.185611\n",
      "Atmospheric         0.181281\n",
      "Mystery             0.168789\n",
      "2D                  0.151547\n",
      "Adventure           0.151365\n",
      "Exploration         0.150146\n",
      "Multiple Endings    0.148329\n",
      "Puzzle              0.146933\n",
      "Visual Novel        0.144236\n",
      "Name: PC1, dtype: float64\n",
      "---------------------\n",
      "Component: 2\n",
      "Multiplayer      0.154796\n",
      "Singleplayer     0.138591\n",
      "PvP              0.137639\n",
      "Tactical         0.133458\n",
      "Building         0.127374\n",
      "3D               0.125454\n",
      "Co-op            0.123588\n",
      "Base Building    0.121261\n",
      "Sandbox          0.119798\n",
      "Strategy         0.117809\n",
      "Name: PC2, dtype: float64\n",
      "---------------------\n",
      "Component: 3\n",
      "Action                 0.225081\n",
      "Strategy               0.178974\n",
      "Shooter                0.163481\n",
      "Turn-Based Strategy    0.156830\n",
      "Management             0.155667\n",
      "Arcade                 0.152692\n",
      "Turn-Based Tactics     0.137691\n",
      "Economy                0.130944\n",
      "Resource Management    0.130429\n",
      "Turn-Based Combat      0.127346\n",
      "Name: PC3, dtype: float64\n",
      "---------------------\n",
      "Component: 4\n",
      "Turn-Based Combat     0.170617\n",
      "Roguelike             0.168682\n",
      "Roguelite             0.163547\n",
      "Realistic             0.162472\n",
      "RPG                   0.159839\n",
      "Simulation            0.156186\n",
      "First-Person          0.148812\n",
      "Sandbox               0.147500\n",
      "Building              0.144433\n",
      "Turn-Based Tactics    0.142557\n",
      "Name: PC4, dtype: float64\n",
      "---------------------\n",
      "Component: 5\n",
      "Family Friendly    0.179035\n",
      "Horror             0.175678\n",
      "Relaxing           0.172910\n",
      "Casual             0.169961\n",
      "Colorful           0.167584\n",
      "First-Person       0.156715\n",
      "2D                 0.155745\n",
      "Survival Horror    0.150463\n",
      "FPS                0.148059\n",
      "Minimalist         0.147346\n",
      "Name: PC5, dtype: float64\n",
      "---------------------\n",
      "Component: 6\n",
      "Sexual Content    0.236166\n",
      "Nudity            0.220151\n",
      "Anime             0.219864\n",
      "Hentai            0.198117\n",
      "Dating Sim        0.197532\n",
      "Mature            0.192357\n",
      "Romance           0.183283\n",
      "NSFW              0.177014\n",
      "Visual Novel      0.175874\n",
      "Multiplayer       0.136653\n",
      "Name: PC6, dtype: float64\n",
      "---------------------\n",
      "Component: 7\n",
      "Crafting               0.176389\n",
      "Building               0.166414\n",
      "War                    0.160123\n",
      "Wargame                0.152920\n",
      "Military               0.148179\n",
      "PvP                    0.145943\n",
      "Board Game             0.141620\n",
      "Turn-Based Strategy    0.141293\n",
      "Tactical               0.138570\n",
      "Base Building          0.136649\n",
      "Name: PC7, dtype: float64\n",
      "---------------------\n",
      "Component: 8\n",
      "Utilities                0.307015\n",
      "Animation & Modeling     0.281835\n",
      "Design & Illustration    0.278121\n",
      "Software                 0.271132\n",
      "Software Training        0.262069\n",
      "Video Production         0.253519\n",
      "Web Publishing           0.225255\n",
      "Game Development         0.213505\n",
      "Audio Production         0.202639\n",
      "Photo Editing            0.202183\n",
      "Name: PC8, dtype: float64\n",
      "---------------------\n",
      "Component: 9\n",
      "Utilities                0.164667\n",
      "Animation & Modeling     0.151821\n",
      "Shoot 'Em Up             0.151065\n",
      "War                      0.147997\n",
      "Software Training        0.146382\n",
      "Software                 0.145412\n",
      "Design & Illustration    0.145339\n",
      "Bullet Hell              0.141089\n",
      "Military                 0.139647\n",
      "Sci-fi                   0.139458\n",
      "Name: PC9, dtype: float64\n",
      "---------------------\n"
     ]
    }
   ],
   "source": [
    "for i in range(1, 10):\n",
    "    loadings_sorted = loadings.loc['PC' + str(i)].abs().sort_values(ascending=False)\n",
    "    print(f\"Component: {i}\" )\n",
    "    print(loadings_sorted.head(10))\n",
    "    print(\"---------------------\")"
   ]
  },
  {
   "cell_type": "markdown",
   "id": "40f1c4bd",
   "metadata": {},
   "source": [
    "We see by inspecting the loadings of some of our components what each explains. For example PC1, has top loadings of Story Rich, Singeplayer, Atmospheric, Mystery, and 2D. This shows some of the tags that are important separators for games that users play.\n",
    "\n",
    "Overall the model allows us to reduce only by 22% to retain 90% of the variance. This is not a great gain, and other approaches might be considered, like exlcluding very rarely used tags, to reduce dimensionality."
   ]
  },
  {
   "cell_type": "markdown",
   "id": "8e39ea0e",
   "metadata": {},
   "source": [
    "## Classfication\n",
    "\n",
    "Here we proceed to use our dataset with reduced dimensionality to classify the success_score based on the reduced tags data \n",
    "\n"
   ]
  },
  {
   "cell_type": "code",
   "execution_count": 34,
   "id": "8527a882",
   "metadata": {},
   "outputs": [
    {
     "data": {
      "text/html": [
       "<div>\n",
       "<style scoped>\n",
       "    .dataframe tbody tr th:only-of-type {\n",
       "        vertical-align: middle;\n",
       "    }\n",
       "\n",
       "    .dataframe tbody tr th {\n",
       "        vertical-align: top;\n",
       "    }\n",
       "\n",
       "    .dataframe thead th {\n",
       "        text-align: right;\n",
       "    }\n",
       "</style>\n",
       "<table border=\"1\" class=\"dataframe\">\n",
       "  <thead>\n",
       "    <tr style=\"text-align: right;\">\n",
       "      <th></th>\n",
       "      <th>title</th>\n",
       "      <th>success_score</th>\n",
       "      <th>0</th>\n",
       "      <th>1</th>\n",
       "      <th>2</th>\n",
       "      <th>3</th>\n",
       "      <th>4</th>\n",
       "      <th>5</th>\n",
       "      <th>6</th>\n",
       "      <th>7</th>\n",
       "      <th>...</th>\n",
       "      <th>340</th>\n",
       "      <th>341</th>\n",
       "      <th>342</th>\n",
       "      <th>343</th>\n",
       "      <th>344</th>\n",
       "      <th>345</th>\n",
       "      <th>346</th>\n",
       "      <th>347</th>\n",
       "      <th>348</th>\n",
       "      <th>349</th>\n",
       "    </tr>\n",
       "  </thead>\n",
       "  <tbody>\n",
       "    <tr>\n",
       "      <th>0</th>\n",
       "      <td>Prince of Persia: Warrior Within™</td>\n",
       "      <td>8.0</td>\n",
       "      <td>3.735801</td>\n",
       "      <td>1.265086</td>\n",
       "      <td>2.842077</td>\n",
       "      <td>0.614051</td>\n",
       "      <td>-1.646951</td>\n",
       "      <td>-1.077142</td>\n",
       "      <td>1.096822</td>\n",
       "      <td>0.190526</td>\n",
       "      <td>...</td>\n",
       "      <td>0.808761</td>\n",
       "      <td>1.062701</td>\n",
       "      <td>0.724319</td>\n",
       "      <td>0.605994</td>\n",
       "      <td>-0.006424</td>\n",
       "      <td>1.057110</td>\n",
       "      <td>0.376684</td>\n",
       "      <td>0.843288</td>\n",
       "      <td>-0.532403</td>\n",
       "      <td>2.403435</td>\n",
       "    </tr>\n",
       "    <tr>\n",
       "      <th>1</th>\n",
       "      <td>BRINK: Agents of Change</td>\n",
       "      <td>4.0</td>\n",
       "      <td>-2.239288</td>\n",
       "      <td>-1.906882</td>\n",
       "      <td>0.458935</td>\n",
       "      <td>0.269194</td>\n",
       "      <td>-0.142058</td>\n",
       "      <td>-0.501294</td>\n",
       "      <td>0.223758</td>\n",
       "      <td>-0.400933</td>\n",
       "      <td>...</td>\n",
       "      <td>0.058600</td>\n",
       "      <td>-0.167893</td>\n",
       "      <td>-0.106237</td>\n",
       "      <td>0.020265</td>\n",
       "      <td>0.039864</td>\n",
       "      <td>0.074264</td>\n",
       "      <td>-0.181379</td>\n",
       "      <td>0.106480</td>\n",
       "      <td>-0.060574</td>\n",
       "      <td>0.053492</td>\n",
       "    </tr>\n",
       "    <tr>\n",
       "      <th>2</th>\n",
       "      <td>Monaco: What's Yours Is Mine</td>\n",
       "      <td>9.0</td>\n",
       "      <td>0.437544</td>\n",
       "      <td>3.500451</td>\n",
       "      <td>3.151625</td>\n",
       "      <td>1.149228</td>\n",
       "      <td>-0.702902</td>\n",
       "      <td>1.803340</td>\n",
       "      <td>-1.215951</td>\n",
       "      <td>0.479158</td>\n",
       "      <td>...</td>\n",
       "      <td>0.466884</td>\n",
       "      <td>-0.426920</td>\n",
       "      <td>0.444070</td>\n",
       "      <td>0.337871</td>\n",
       "      <td>-0.189942</td>\n",
       "      <td>-0.540227</td>\n",
       "      <td>0.102844</td>\n",
       "      <td>-0.509404</td>\n",
       "      <td>0.146204</td>\n",
       "      <td>-0.170611</td>\n",
       "    </tr>\n",
       "    <tr>\n",
       "      <th>3</th>\n",
       "      <td>Escape Dead Island</td>\n",
       "      <td>6.0</td>\n",
       "      <td>1.338139</td>\n",
       "      <td>1.982501</td>\n",
       "      <td>3.362377</td>\n",
       "      <td>-1.295898</td>\n",
       "      <td>-5.715716</td>\n",
       "      <td>0.796349</td>\n",
       "      <td>1.103081</td>\n",
       "      <td>1.429104</td>\n",
       "      <td>...</td>\n",
       "      <td>0.958073</td>\n",
       "      <td>0.516614</td>\n",
       "      <td>-0.724474</td>\n",
       "      <td>0.069025</td>\n",
       "      <td>0.272545</td>\n",
       "      <td>0.867045</td>\n",
       "      <td>0.677833</td>\n",
       "      <td>0.702910</td>\n",
       "      <td>1.553356</td>\n",
       "      <td>1.008720</td>\n",
       "    </tr>\n",
       "    <tr>\n",
       "      <th>4</th>\n",
       "      <td>Dungeon of the ENDLESS™</td>\n",
       "      <td>8.0</td>\n",
       "      <td>0.111637</td>\n",
       "      <td>4.848265</td>\n",
       "      <td>-0.712946</td>\n",
       "      <td>4.330792</td>\n",
       "      <td>-0.177719</td>\n",
       "      <td>-2.851206</td>\n",
       "      <td>4.291197</td>\n",
       "      <td>-0.781963</td>\n",
       "      <td>...</td>\n",
       "      <td>0.235913</td>\n",
       "      <td>0.254406</td>\n",
       "      <td>-0.550774</td>\n",
       "      <td>0.247270</td>\n",
       "      <td>0.688419</td>\n",
       "      <td>0.258463</td>\n",
       "      <td>0.277266</td>\n",
       "      <td>0.115288</td>\n",
       "      <td>-0.547077</td>\n",
       "      <td>-1.151853</td>\n",
       "    </tr>\n",
       "    <tr>\n",
       "      <th>...</th>\n",
       "      <td>...</td>\n",
       "      <td>...</td>\n",
       "      <td>...</td>\n",
       "      <td>...</td>\n",
       "      <td>...</td>\n",
       "      <td>...</td>\n",
       "      <td>...</td>\n",
       "      <td>...</td>\n",
       "      <td>...</td>\n",
       "      <td>...</td>\n",
       "      <td>...</td>\n",
       "      <td>...</td>\n",
       "      <td>...</td>\n",
       "      <td>...</td>\n",
       "      <td>...</td>\n",
       "      <td>...</td>\n",
       "      <td>...</td>\n",
       "      <td>...</td>\n",
       "      <td>...</td>\n",
       "      <td>...</td>\n",
       "      <td>...</td>\n",
       "    </tr>\n",
       "    <tr>\n",
       "      <th>50867</th>\n",
       "      <td>I Expect You To Die 3: Cog in the Machine</td>\n",
       "      <td>6.0</td>\n",
       "      <td>-2.158890</td>\n",
       "      <td>-2.025058</td>\n",
       "      <td>-0.021740</td>\n",
       "      <td>0.183012</td>\n",
       "      <td>-0.053299</td>\n",
       "      <td>-0.484384</td>\n",
       "      <td>0.110251</td>\n",
       "      <td>-0.316789</td>\n",
       "      <td>...</td>\n",
       "      <td>-0.022431</td>\n",
       "      <td>-0.015630</td>\n",
       "      <td>-0.125484</td>\n",
       "      <td>0.055692</td>\n",
       "      <td>0.153097</td>\n",
       "      <td>0.118898</td>\n",
       "      <td>-0.111879</td>\n",
       "      <td>-0.004173</td>\n",
       "      <td>-0.098431</td>\n",
       "      <td>0.027222</td>\n",
       "    </tr>\n",
       "    <tr>\n",
       "      <th>50868</th>\n",
       "      <td>PAYDAY 3</td>\n",
       "      <td>4.0</td>\n",
       "      <td>-2.127715</td>\n",
       "      <td>-1.970675</td>\n",
       "      <td>-0.047831</td>\n",
       "      <td>0.184138</td>\n",
       "      <td>-0.133642</td>\n",
       "      <td>-0.411837</td>\n",
       "      <td>0.113668</td>\n",
       "      <td>-0.300441</td>\n",
       "      <td>...</td>\n",
       "      <td>-0.167900</td>\n",
       "      <td>-0.115459</td>\n",
       "      <td>-0.141340</td>\n",
       "      <td>0.092931</td>\n",
       "      <td>0.130234</td>\n",
       "      <td>0.062414</td>\n",
       "      <td>-0.030713</td>\n",
       "      <td>-0.001380</td>\n",
       "      <td>-0.181672</td>\n",
       "      <td>0.096435</td>\n",
       "    </tr>\n",
       "    <tr>\n",
       "      <th>50869</th>\n",
       "      <td>Eternights</td>\n",
       "      <td>6.0</td>\n",
       "      <td>-2.127715</td>\n",
       "      <td>-1.970675</td>\n",
       "      <td>-0.047831</td>\n",
       "      <td>0.184138</td>\n",
       "      <td>-0.133642</td>\n",
       "      <td>-0.411837</td>\n",
       "      <td>0.113668</td>\n",
       "      <td>-0.300441</td>\n",
       "      <td>...</td>\n",
       "      <td>-0.167900</td>\n",
       "      <td>-0.115459</td>\n",
       "      <td>-0.141340</td>\n",
       "      <td>0.092931</td>\n",
       "      <td>0.130234</td>\n",
       "      <td>0.062414</td>\n",
       "      <td>-0.030713</td>\n",
       "      <td>-0.001380</td>\n",
       "      <td>-0.181672</td>\n",
       "      <td>0.096435</td>\n",
       "    </tr>\n",
       "    <tr>\n",
       "      <th>50870</th>\n",
       "      <td>Forgive Me Father 2</td>\n",
       "      <td>6.0</td>\n",
       "      <td>2.476680</td>\n",
       "      <td>2.089344</td>\n",
       "      <td>3.871341</td>\n",
       "      <td>-1.161820</td>\n",
       "      <td>-3.334106</td>\n",
       "      <td>-1.605704</td>\n",
       "      <td>-0.079162</td>\n",
       "      <td>0.721176</td>\n",
       "      <td>...</td>\n",
       "      <td>1.677371</td>\n",
       "      <td>0.024937</td>\n",
       "      <td>-1.025946</td>\n",
       "      <td>1.285097</td>\n",
       "      <td>0.259059</td>\n",
       "      <td>0.552900</td>\n",
       "      <td>1.641465</td>\n",
       "      <td>-0.339625</td>\n",
       "      <td>1.621976</td>\n",
       "      <td>0.134319</td>\n",
       "    </tr>\n",
       "    <tr>\n",
       "      <th>50871</th>\n",
       "      <td>FatalZone</td>\n",
       "      <td>5.0</td>\n",
       "      <td>-2.158890</td>\n",
       "      <td>-2.025058</td>\n",
       "      <td>-0.021740</td>\n",
       "      <td>0.183012</td>\n",
       "      <td>-0.053299</td>\n",
       "      <td>-0.484384</td>\n",
       "      <td>0.110251</td>\n",
       "      <td>-0.316789</td>\n",
       "      <td>...</td>\n",
       "      <td>-0.022431</td>\n",
       "      <td>-0.015630</td>\n",
       "      <td>-0.125484</td>\n",
       "      <td>0.055692</td>\n",
       "      <td>0.153097</td>\n",
       "      <td>0.118898</td>\n",
       "      <td>-0.111879</td>\n",
       "      <td>-0.004173</td>\n",
       "      <td>-0.098431</td>\n",
       "      <td>0.027222</td>\n",
       "    </tr>\n",
       "  </tbody>\n",
       "</table>\n",
       "<p>50872 rows × 352 columns</p>\n",
       "</div>"
      ],
      "text/plain": [
       "                                           title  success_score         0  \\\n",
       "0              Prince of Persia: Warrior Within™            8.0  3.735801   \n",
       "1                        BRINK: Agents of Change            4.0 -2.239288   \n",
       "2                   Monaco: What's Yours Is Mine            9.0  0.437544   \n",
       "3                             Escape Dead Island            6.0  1.338139   \n",
       "4                        Dungeon of the ENDLESS™            8.0  0.111637   \n",
       "...                                          ...            ...       ...   \n",
       "50867  I Expect You To Die 3: Cog in the Machine            6.0 -2.158890   \n",
       "50868                                   PAYDAY 3            4.0 -2.127715   \n",
       "50869                                 Eternights            6.0 -2.127715   \n",
       "50870                        Forgive Me Father 2            6.0  2.476680   \n",
       "50871                                  FatalZone            5.0 -2.158890   \n",
       "\n",
       "              1         2         3         4         5         6         7  \\\n",
       "0      1.265086  2.842077  0.614051 -1.646951 -1.077142  1.096822  0.190526   \n",
       "1     -1.906882  0.458935  0.269194 -0.142058 -0.501294  0.223758 -0.400933   \n",
       "2      3.500451  3.151625  1.149228 -0.702902  1.803340 -1.215951  0.479158   \n",
       "3      1.982501  3.362377 -1.295898 -5.715716  0.796349  1.103081  1.429104   \n",
       "4      4.848265 -0.712946  4.330792 -0.177719 -2.851206  4.291197 -0.781963   \n",
       "...         ...       ...       ...       ...       ...       ...       ...   \n",
       "50867 -2.025058 -0.021740  0.183012 -0.053299 -0.484384  0.110251 -0.316789   \n",
       "50868 -1.970675 -0.047831  0.184138 -0.133642 -0.411837  0.113668 -0.300441   \n",
       "50869 -1.970675 -0.047831  0.184138 -0.133642 -0.411837  0.113668 -0.300441   \n",
       "50870  2.089344  3.871341 -1.161820 -3.334106 -1.605704 -0.079162  0.721176   \n",
       "50871 -2.025058 -0.021740  0.183012 -0.053299 -0.484384  0.110251 -0.316789   \n",
       "\n",
       "       ...       340       341       342       343       344       345  \\\n",
       "0      ...  0.808761  1.062701  0.724319  0.605994 -0.006424  1.057110   \n",
       "1      ...  0.058600 -0.167893 -0.106237  0.020265  0.039864  0.074264   \n",
       "2      ...  0.466884 -0.426920  0.444070  0.337871 -0.189942 -0.540227   \n",
       "3      ...  0.958073  0.516614 -0.724474  0.069025  0.272545  0.867045   \n",
       "4      ...  0.235913  0.254406 -0.550774  0.247270  0.688419  0.258463   \n",
       "...    ...       ...       ...       ...       ...       ...       ...   \n",
       "50867  ... -0.022431 -0.015630 -0.125484  0.055692  0.153097  0.118898   \n",
       "50868  ... -0.167900 -0.115459 -0.141340  0.092931  0.130234  0.062414   \n",
       "50869  ... -0.167900 -0.115459 -0.141340  0.092931  0.130234  0.062414   \n",
       "50870  ...  1.677371  0.024937 -1.025946  1.285097  0.259059  0.552900   \n",
       "50871  ... -0.022431 -0.015630 -0.125484  0.055692  0.153097  0.118898   \n",
       "\n",
       "            346       347       348       349  \n",
       "0      0.376684  0.843288 -0.532403  2.403435  \n",
       "1     -0.181379  0.106480 -0.060574  0.053492  \n",
       "2      0.102844 -0.509404  0.146204 -0.170611  \n",
       "3      0.677833  0.702910  1.553356  1.008720  \n",
       "4      0.277266  0.115288 -0.547077 -1.151853  \n",
       "...         ...       ...       ...       ...  \n",
       "50867 -0.111879 -0.004173 -0.098431  0.027222  \n",
       "50868 -0.030713 -0.001380 -0.181672  0.096435  \n",
       "50869 -0.030713 -0.001380 -0.181672  0.096435  \n",
       "50870  1.641465 -0.339625  1.621976  0.134319  \n",
       "50871 -0.111879 -0.004173 -0.098431  0.027222  \n",
       "\n",
       "[50872 rows x 352 columns]"
      ]
     },
     "execution_count": 34,
     "metadata": {},
     "output_type": "execute_result"
    }
   ],
   "source": [
    "pca_merge = pd.concat(objs=[games_metadata[['title', 'success_score']], games_pca], axis=1)\n",
    "pca_merge"
   ]
  },
  {
   "cell_type": "code",
   "execution_count": 35,
   "id": "a3f4ffee",
   "metadata": {},
   "outputs": [],
   "source": [
    "from sklearn.neighbors import KNeighborsClassifier\n",
    "\n",
    "games_neighbors = KNeighborsClassifier(n_neighbors=5)\n",
    "games_neighbors.fit(games_pca, pca_merge['success_score'])\n",
    "games_neighbors_predictions = games_neighbors.predict(games_pca)"
   ]
  },
  {
   "cell_type": "code",
   "execution_count": 38,
   "id": "4110ed1f",
   "metadata": {},
   "outputs": [],
   "source": [
    "from sklearn.naive_bayes import GaussianNB\n",
    "\n",
    "games_gnb = GaussianNB()\n",
    "games_gnb.fit(games_pca, pca_merge['success_score'])\n",
    "nb_predictions = games_gnb.predict(games_pca)"
   ]
  },
  {
   "cell_type": "code",
   "execution_count": 43,
   "id": "5fef6c1e",
   "metadata": {},
   "outputs": [],
   "source": [
    "from sklearn.metrics import accuracy_score, precision_score, recall_score, f1_score, confusion_matrix\n",
    "\n",
    "def determine_metrics(actual_values, predictions):\n",
    "    metrics = {}\n",
    "    metrics['Accuracy'] = accuracy_score(actual_values, predictions)\n",
    "    metrics['Precision'] = precision_score(actual_values, predictions, average='weighted')\n",
    "    metrics['Recall'] = recall_score(actual_values, predictions, average='weighted')\n",
    "    metrics['F1'] = f1_score(actual_values, predictions, average='weighted')\n",
    "    metrics = pd.DataFrame.from_dict(metrics, orient='index')\n",
    "    \n",
    "    return metrics\n",
    "\n",
    "kneighbors_metrics = determine_metrics(pca_merge['success_score'], games_neighbors_predictions)\n",
    "kneighbors_confusion = confusion_matrix(pca_merge['success_score'], games_neighbors_predictions)\n",
    "nb_metrics = determine_metrics(pca_merge['success_score'], nb_predictions)\n",
    "nb_confusion = confusion_matrix(pca_merge['success_score'], nb_predictions)"
   ]
  },
  {
   "cell_type": "code",
   "execution_count": 44,
   "id": "fb60ce50",
   "metadata": {},
   "outputs": [
    {
     "data": {
      "text/html": [
       "<div>\n",
       "<style scoped>\n",
       "    .dataframe tbody tr th:only-of-type {\n",
       "        vertical-align: middle;\n",
       "    }\n",
       "\n",
       "    .dataframe tbody tr th {\n",
       "        vertical-align: top;\n",
       "    }\n",
       "\n",
       "    .dataframe thead th {\n",
       "        text-align: right;\n",
       "    }\n",
       "</style>\n",
       "<table border=\"1\" class=\"dataframe\">\n",
       "  <thead>\n",
       "    <tr style=\"text-align: right;\">\n",
       "      <th></th>\n",
       "      <th>0</th>\n",
       "    </tr>\n",
       "  </thead>\n",
       "  <tbody>\n",
       "    <tr>\n",
       "      <th>Accuracy</th>\n",
       "      <td>0.419779</td>\n",
       "    </tr>\n",
       "    <tr>\n",
       "      <th>Precision</th>\n",
       "      <td>0.437568</td>\n",
       "    </tr>\n",
       "    <tr>\n",
       "      <th>Recall</th>\n",
       "      <td>0.419779</td>\n",
       "    </tr>\n",
       "    <tr>\n",
       "      <th>F1</th>\n",
       "      <td>0.418340</td>\n",
       "    </tr>\n",
       "  </tbody>\n",
       "</table>\n",
       "</div>"
      ],
      "text/plain": [
       "                  0\n",
       "Accuracy   0.419779\n",
       "Precision  0.437568\n",
       "Recall     0.419779\n",
       "F1         0.418340"
      ]
     },
     "execution_count": 44,
     "metadata": {},
     "output_type": "execute_result"
    }
   ],
   "source": [
    "kneighbors_metrics"
   ]
  },
  {
   "cell_type": "code",
   "execution_count": 45,
   "id": "7a1148c1",
   "metadata": {},
   "outputs": [
    {
     "data": {
      "text/html": [
       "<div>\n",
       "<style scoped>\n",
       "    .dataframe tbody tr th:only-of-type {\n",
       "        vertical-align: middle;\n",
       "    }\n",
       "\n",
       "    .dataframe tbody tr th {\n",
       "        vertical-align: top;\n",
       "    }\n",
       "\n",
       "    .dataframe thead th {\n",
       "        text-align: right;\n",
       "    }\n",
       "</style>\n",
       "<table border=\"1\" class=\"dataframe\">\n",
       "  <thead>\n",
       "    <tr style=\"text-align: right;\">\n",
       "      <th></th>\n",
       "      <th>0</th>\n",
       "    </tr>\n",
       "  </thead>\n",
       "  <tbody>\n",
       "    <tr>\n",
       "      <th>Accuracy</th>\n",
       "      <td>0.112459</td>\n",
       "    </tr>\n",
       "    <tr>\n",
       "      <th>Precision</th>\n",
       "      <td>0.143282</td>\n",
       "    </tr>\n",
       "    <tr>\n",
       "      <th>Recall</th>\n",
       "      <td>0.112459</td>\n",
       "    </tr>\n",
       "    <tr>\n",
       "      <th>F1</th>\n",
       "      <td>0.079307</td>\n",
       "    </tr>\n",
       "  </tbody>\n",
       "</table>\n",
       "</div>"
      ],
      "text/plain": [
       "                  0\n",
       "Accuracy   0.112459\n",
       "Precision  0.143282\n",
       "Recall     0.112459\n",
       "F1         0.079307"
      ]
     },
     "execution_count": 45,
     "metadata": {},
     "output_type": "execute_result"
    }
   ],
   "source": [
    "nb_metrics"
   ]
  },
  {
   "cell_type": "code",
   "execution_count": 49,
   "id": "e371194f",
   "metadata": {},
   "outputs": [
    {
     "data": {
      "image/png": "[encoded data removed]",
      "text/plain": [
       "<Figure size 640x480 with 2 Axes>"
      ]
     },
     "metadata": {},
     "output_type": "display_data"
    }
   ],
   "source": [
    "confusion_matrix = pd.crosstab(pca_merge['success_score'], games_neighbors_predictions, rownames=['Actual'], colnames=['Predicted'])\n",
    "sns.heatmap(confusion_matrix, annot=True, cmap=\"viridis\", fmt=\"d\")\n",
    "plt.title(\"kNeighbors Confusion Matrix\")\n",
    "plt.show()"
   ]
  },
  {
   "cell_type": "code",
   "execution_count": 51,
   "id": "fe820bbb",
   "metadata": {},
   "outputs": [
    {
     "data": {
      "image/png": "[encoded data removed]",
      "text/plain": [
       "<Figure size 640x480 with 2 Axes>"
      ]
     },
     "metadata": {},
     "output_type": "display_data"
    }
   ],
   "source": [
    "confusion_matrix = pd.crosstab(pca_merge['success_score'], nb_predictions, rownames=['Actual'], colnames=['Predicted'])\n",
    "sns.heatmap(confusion_matrix, annot=True, cmap=\"viridis\", fmt=\"d\")\n",
    "plt.title(\"Naive Bayes Confusion Matrix\")\n",
    "plt.show()"
   ]
  },
  {
   "cell_type": "markdown",
   "id": "2261fd15",
   "metadata": {},
   "source": [
    "## NLP Approach\n",
    "\n",
    "We have lots of text data to try to take advantage of for a natural language processing based approach. Our game title and description are string data we can glean information from and use to determine similarity "
   ]
  },
  {
   "cell_type": "code",
   "execution_count": 16,
   "id": "148b82b6",
   "metadata": {},
   "outputs": [],
   "source": [
    "nlp_data = games_metadata[['title', 'description']].copy()\n",
    "nlp_data['combined_text'] = (\n",
    "    nlp_data['title'].fillna('') + \" \" +\n",
    "    nlp_data['description'].fillna('') + \" \"\n",
    ")"
   ]
  },
  {
   "cell_type": "code",
   "execution_count": 17,
   "id": "dd07f49e",
   "metadata": {},
   "outputs": [],
   "source": [
    "from sklearn.feature_extraction.text import HashingVectorizer\n",
    "from sklearn.metrics.pairwise import linear_kernel\n",
    "\n",
    "hv = HashingVectorizer(analyzer=\"word\", ngram_range=(1,2), stop_words=\"english\", n_features=2**18, norm='l2', binary=False)\n",
    "tfidf_matrix_hashed = hv.fit_transform(nlp_data['combined_text'])\n",
    "cosine_similarities_hashed = linear_kernel(tfidf_matrix_hashed, tfidf_matrix_hashed)"
   ]
  },
  {
   "cell_type": "code",
   "execution_count": 18,
   "id": "6e165317",
   "metadata": {},
   "outputs": [],
   "source": [
    "def get_recommendations(title, sim_matrix, df, indices_series, num_recommendations=5):\n",
    "    \"\"\"\n",
    "    Generates game recommendations based on a tag-based similarity matrix.\n",
    "\n",
    "    Args:\n",
    "        title (str): The title of the game to get recommendations for.\n",
    "        sim_matrix (np.array): The pre-calculated tag-based similarity matrix.\n",
    "        df (pd.DataFrame): The original DataFrame containing game titles.\n",
    "        indices_series (pd.Series): A Series mapping game titles to their DataFrame indices.\n",
    "        num_recommendations (int): The number of top recommendations to return.\n",
    "\n",
    "    Returns:\n",
    "        pd.DataFrame: A DataFrame of recommended game titles and their similarity scores.\n",
    "                      Returns None if the title is not found.\n",
    "    \"\"\"\n",
    "    if title not in indices_series:\n",
    "        print(f\"Error: Game '{title}' not found in the dataset.\")\n",
    "        return None\n",
    "\n",
    "    idx = indices_series[title]\n",
    "    sim_scores = list(enumerate(sim_matrix[idx]))\n",
    "    sim_scores = sorted(sim_scores, key=lambda x: x[1], reverse=True)\n",
    "    sim_scores = sim_scores[1:num_recommendations+1]\n",
    "    game_indices = [i[0] for i in sim_scores]\n",
    "    game_similarities = [i[1] for i in sim_scores]\n",
    "\n",
    "    recommended_games = df.iloc[game_indices][['title']]\n",
    "    recommended_games['Similarity_Score'] = game_similarities\n",
    "    return recommended_games"
   ]
  },
  {
   "cell_type": "code",
   "execution_count": null,
   "id": "ff59aa7f",
   "metadata": {},
   "outputs": [],
   "source": [
    "indices = pd.Series(nlp_data.index, index=nlp_data['title']).drop_duplicates()"
   ]
  },
  {
   "cell_type": "code",
   "execution_count": 20,
   "id": "320af34e",
   "metadata": {},
   "outputs": [
    {
     "data": {
      "text/html": [
       "<div>\n",
       "<style scoped>\n",
       "    .dataframe tbody tr th:only-of-type {\n",
       "        vertical-align: middle;\n",
       "    }\n",
       "\n",
       "    .dataframe tbody tr th {\n",
       "        vertical-align: top;\n",
       "    }\n",
       "\n",
       "    .dataframe thead th {\n",
       "        text-align: right;\n",
       "    }\n",
       "</style>\n",
       "<table border=\"1\" class=\"dataframe\">\n",
       "  <thead>\n",
       "    <tr style=\"text-align: right;\">\n",
       "      <th></th>\n",
       "      <th>title</th>\n",
       "      <th>Similarity_Score</th>\n",
       "    </tr>\n",
       "  </thead>\n",
       "  <tbody>\n",
       "    <tr>\n",
       "      <th>19171</th>\n",
       "      <td>Baldur's Gate: Siege of Dragonspear</td>\n",
       "      <td>0.654654</td>\n",
       "    </tr>\n",
       "    <tr>\n",
       "      <th>47535</th>\n",
       "      <td>Baldur's Gate: Enhanced Edition</td>\n",
       "      <td>0.654654</td>\n",
       "    </tr>\n",
       "    <tr>\n",
       "      <th>15407</th>\n",
       "      <td>Baldur's Gate: Faces of Good and Evil</td>\n",
       "      <td>0.577350</td>\n",
       "    </tr>\n",
       "    <tr>\n",
       "      <th>15812</th>\n",
       "      <td>Baldur's Gate II: Enhanced Edition</td>\n",
       "      <td>0.577350</td>\n",
       "    </tr>\n",
       "    <tr>\n",
       "      <th>6681</th>\n",
       "      <td>Baldur's Gate: Enhanced Edition Official Sound...</td>\n",
       "      <td>0.522233</td>\n",
       "    </tr>\n",
       "    <tr>\n",
       "      <th>9937</th>\n",
       "      <td>Baldur's Gate: Siege of Dragonspear Official S...</td>\n",
       "      <td>0.522233</td>\n",
       "    </tr>\n",
       "    <tr>\n",
       "      <th>14335</th>\n",
       "      <td>Baldur's Gate 3 - Digital Deluxe Edition DLC</td>\n",
       "      <td>0.522233</td>\n",
       "    </tr>\n",
       "    <tr>\n",
       "      <th>1619</th>\n",
       "      <td>Baldur's Gate II: Enhanced Edition Official So...</td>\n",
       "      <td>0.480384</td>\n",
       "    </tr>\n",
       "    <tr>\n",
       "      <th>11257</th>\n",
       "      <td>Baldur's Gate: Dark Alliance</td>\n",
       "      <td>0.480384</td>\n",
       "    </tr>\n",
       "    <tr>\n",
       "      <th>48994</th>\n",
       "      <td>Baldur's Gate: Dark Alliance II</td>\n",
       "      <td>0.247436</td>\n",
       "    </tr>\n",
       "  </tbody>\n",
       "</table>\n",
       "</div>"
      ],
      "text/plain": [
       "                                                   title  Similarity_Score\n",
       "19171                Baldur's Gate: Siege of Dragonspear          0.654654\n",
       "47535                    Baldur's Gate: Enhanced Edition          0.654654\n",
       "15407              Baldur's Gate: Faces of Good and Evil          0.577350\n",
       "15812                 Baldur's Gate II: Enhanced Edition          0.577350\n",
       "6681   Baldur's Gate: Enhanced Edition Official Sound...          0.522233\n",
       "9937   Baldur's Gate: Siege of Dragonspear Official S...          0.522233\n",
       "14335       Baldur's Gate 3 - Digital Deluxe Edition DLC          0.522233\n",
       "1619   Baldur's Gate II: Enhanced Edition Official So...          0.480384\n",
       "11257                       Baldur's Gate: Dark Alliance          0.480384\n",
       "48994                    Baldur's Gate: Dark Alliance II          0.247436"
      ]
     },
     "execution_count": 20,
     "metadata": {},
     "output_type": "execute_result"
    }
   ],
   "source": [
    "get_recommendations(\"Baldur's Gate 3\", cosine_similarities_hashed, nlp_data, indices, 10)"
   ]
  },
  {
   "cell_type": "code",
   "execution_count": 21,
   "id": "7d38f9ec",
   "metadata": {},
   "outputs": [
    {
     "data": {
      "text/html": [
       "<div>\n",
       "<style scoped>\n",
       "    .dataframe tbody tr th:only-of-type {\n",
       "        vertical-align: middle;\n",
       "    }\n",
       "\n",
       "    .dataframe tbody tr th {\n",
       "        vertical-align: top;\n",
       "    }\n",
       "\n",
       "    .dataframe thead th {\n",
       "        text-align: right;\n",
       "    }\n",
       "</style>\n",
       "<table border=\"1\" class=\"dataframe\">\n",
       "  <thead>\n",
       "    <tr style=\"text-align: right;\">\n",
       "      <th></th>\n",
       "      <th>title</th>\n",
       "      <th>Similarity_Score</th>\n",
       "    </tr>\n",
       "  </thead>\n",
       "  <tbody>\n",
       "    <tr>\n",
       "      <th>12140</th>\n",
       "      <td>Outer Wilds - Original Soundtrack</td>\n",
       "      <td>0.654654</td>\n",
       "    </tr>\n",
       "    <tr>\n",
       "      <th>48842</th>\n",
       "      <td>Outer Wilds - Echoes of the Eye</td>\n",
       "      <td>0.654654</td>\n",
       "    </tr>\n",
       "    <tr>\n",
       "      <th>47724</th>\n",
       "      <td>The Outer Worlds</td>\n",
       "      <td>0.333333</td>\n",
       "    </tr>\n",
       "    <tr>\n",
       "      <th>9379</th>\n",
       "      <td>BallisticNG - Outer Reaches</td>\n",
       "      <td>0.258199</td>\n",
       "    </tr>\n",
       "    <tr>\n",
       "      <th>14451</th>\n",
       "      <td>Smalland: Survive the Wilds</td>\n",
       "      <td>0.258199</td>\n",
       "    </tr>\n",
       "    <tr>\n",
       "      <th>14761</th>\n",
       "      <td>The Outer Worlds Original Soundtrack</td>\n",
       "      <td>0.218218</td>\n",
       "    </tr>\n",
       "    <tr>\n",
       "      <th>15836</th>\n",
       "      <td>MudRunner - American Wilds Expansion</td>\n",
       "      <td>0.218218</td>\n",
       "    </tr>\n",
       "    <tr>\n",
       "      <th>17322</th>\n",
       "      <td>The Outer Worlds: Murder on Eridanos</td>\n",
       "      <td>0.218218</td>\n",
       "    </tr>\n",
       "    <tr>\n",
       "      <th>28984</th>\n",
       "      <td>The Outer Worlds Expansion Pass</td>\n",
       "      <td>0.218218</td>\n",
       "    </tr>\n",
       "    <tr>\n",
       "      <th>48664</th>\n",
       "      <td>The Outer Worlds: Peril on Gorgon</td>\n",
       "      <td>0.218218</td>\n",
       "    </tr>\n",
       "  </tbody>\n",
       "</table>\n",
       "</div>"
      ],
      "text/plain": [
       "                                      title  Similarity_Score\n",
       "12140     Outer Wilds - Original Soundtrack          0.654654\n",
       "48842       Outer Wilds - Echoes of the Eye          0.654654\n",
       "47724                      The Outer Worlds          0.333333\n",
       "9379            BallisticNG - Outer Reaches          0.258199\n",
       "14451           Smalland: Survive the Wilds          0.258199\n",
       "14761  The Outer Worlds Original Soundtrack          0.218218\n",
       "15836  MudRunner - American Wilds Expansion          0.218218\n",
       "17322  The Outer Worlds: Murder on Eridanos          0.218218\n",
       "28984       The Outer Worlds Expansion Pass          0.218218\n",
       "48664     The Outer Worlds: Peril on Gorgon          0.218218"
      ]
     },
     "execution_count": 21,
     "metadata": {},
     "output_type": "execute_result"
    }
   ],
   "source": [
    "get_recommendations(\"Outer Wilds\", cosine_similarities_hashed, nlp_data, indices, 10)"
   ]
  },
  {
   "cell_type": "code",
   "execution_count": 22,
   "id": "46e8197e",
   "metadata": {},
   "outputs": [
    {
     "data": {
      "text/html": [
       "<div>\n",
       "<style scoped>\n",
       "    .dataframe tbody tr th:only-of-type {\n",
       "        vertical-align: middle;\n",
       "    }\n",
       "\n",
       "    .dataframe tbody tr th {\n",
       "        vertical-align: top;\n",
       "    }\n",
       "\n",
       "    .dataframe thead th {\n",
       "        text-align: right;\n",
       "    }\n",
       "</style>\n",
       "<table border=\"1\" class=\"dataframe\">\n",
       "  <thead>\n",
       "    <tr style=\"text-align: right;\">\n",
       "      <th></th>\n",
       "      <th>title</th>\n",
       "      <th>Similarity_Score</th>\n",
       "    </tr>\n",
       "  </thead>\n",
       "  <tbody>\n",
       "    <tr>\n",
       "      <th>19579</th>\n",
       "      <td>Prince of Persia®</td>\n",
       "      <td>0.394155</td>\n",
       "    </tr>\n",
       "    <tr>\n",
       "      <th>19153</th>\n",
       "      <td>Prince of Persia: The Two Thrones™</td>\n",
       "      <td>0.337107</td>\n",
       "    </tr>\n",
       "    <tr>\n",
       "      <th>12694</th>\n",
       "      <td>Prince of Persia: The Forgotten Sands™</td>\n",
       "      <td>0.334752</td>\n",
       "    </tr>\n",
       "    <tr>\n",
       "      <th>9419</th>\n",
       "      <td>Prince of Persia®: The Sands of Time</td>\n",
       "      <td>0.288196</td>\n",
       "    </tr>\n",
       "    <tr>\n",
       "      <th>11200</th>\n",
       "      <td>Dark Parables: The Exiled Prince Collector's E...</td>\n",
       "      <td>0.192538</td>\n",
       "    </tr>\n",
       "    <tr>\n",
       "      <th>6958</th>\n",
       "      <td>RATUZ</td>\n",
       "      <td>0.164620</td>\n",
       "    </tr>\n",
       "    <tr>\n",
       "      <th>10978</th>\n",
       "      <td>Karateka</td>\n",
       "      <td>0.149654</td>\n",
       "    </tr>\n",
       "    <tr>\n",
       "      <th>27669</th>\n",
       "      <td>Sockman</td>\n",
       "      <td>0.146568</td>\n",
       "    </tr>\n",
       "    <tr>\n",
       "      <th>7675</th>\n",
       "      <td>The Last Express Gold Edition</td>\n",
       "      <td>0.133540</td>\n",
       "    </tr>\n",
       "    <tr>\n",
       "      <th>41961</th>\n",
       "      <td>Tragedy of Prince Rupert</td>\n",
       "      <td>0.128185</td>\n",
       "    </tr>\n",
       "  </tbody>\n",
       "</table>\n",
       "</div>"
      ],
      "text/plain": [
       "                                                   title  Similarity_Score\n",
       "19579                                  Prince of Persia®          0.394155\n",
       "19153                 Prince of Persia: The Two Thrones™          0.337107\n",
       "12694             Prince of Persia: The Forgotten Sands™          0.334752\n",
       "9419                Prince of Persia®: The Sands of Time          0.288196\n",
       "11200  Dark Parables: The Exiled Prince Collector's E...          0.192538\n",
       "6958                                               RATUZ          0.164620\n",
       "10978                                           Karateka          0.149654\n",
       "27669                                            Sockman          0.146568\n",
       "7675                       The Last Express Gold Edition          0.133540\n",
       "41961                           Tragedy of Prince Rupert          0.128185"
      ]
     },
     "execution_count": 22,
     "metadata": {},
     "output_type": "execute_result"
    }
   ],
   "source": [
    "get_recommendations(\"Prince of Persia: Warrior Within™\", cosine_similarities_hashed, nlp_data, indices, 10)"
   ]
  },
  {
   "cell_type": "markdown",
   "id": "723811fb",
   "metadata": {},
   "source": [
    "This works, but given that for many games, title is the only data given, we are "
   ]
  },
  {
   "cell_type": "code",
   "execution_count": 23,
   "id": "eaa7abf1",
   "metadata": {},
   "outputs": [],
   "source": [
    "non_feature_columns = ['app_id', \n",
    "                       'title',\n",
    "                       'positive_ratio',\n",
    "                       'user_reviews',\n",
    "                       'hours',\n",
    "                       'description',\n",
    "                       'tags'\n",
    "                       ]\n",
    "\n",
    "feature_columns = [col for col in games_metadata.columns if col not in non_feature_columns]\n",
    "tag_features = games_metadata[feature_columns].copy()\n",
    "tag_features = tag_features.values"
   ]
  },
  {
   "cell_type": "code",
   "execution_count": 24,
   "id": "f4e0620a",
   "metadata": {},
   "outputs": [
    {
     "ename": "",
     "evalue": "",
     "output_type": "error",
     "traceback": [
      "\u001b[1;31mThe Kernel crashed while executing code in the current cell or a previous cell. \n",
      "\u001b[1;31mPlease review the code in the cell(s) to identify a possible cause of the failure. \n",
      "\u001b[1;31mClick <a href='https://aka.ms/vscodeJupyterKernelCrash'>here</a> for more info. \n",
      "\u001b[1;31mView Jupyter <a href='command:jupyter.viewOutput'>log</a> for further details."
     ]
    }
   ],
   "source": [
    "tag_cosine_similarities = linear_kernel(tag_features, tag_features)"
   ]
  },
  {
   "cell_type": "code",
   "execution_count": null,
   "id": "bfcb1838",
   "metadata": {},
   "outputs": [
    {
     "ename": "NameError",
     "evalue": "name 'jaccard_similarity_matrix' is not defined",
     "output_type": "error",
     "traceback": [
      "\u001b[0;31m---------------------------------------------------------------------------\u001b[0m",
      "\u001b[0;31mNameError\u001b[0m                                 Traceback (most recent call last)",
      "Cell \u001b[0;32mIn[38], line 1\u001b[0m\n\u001b[0;32m----> 1\u001b[0m get_recommendations(\u001b[38;5;124m\"\u001b[39m\u001b[38;5;124mPrince of Persia: Warrior Within™\u001b[39m\u001b[38;5;124m\"\u001b[39m, \u001b[43mjaccard_similarity_matrix\u001b[49m, nlp_data, indices, \u001b[38;5;241m10\u001b[39m)\n",
      "\u001b[0;31mNameError\u001b[0m: name 'jaccard_similarity_matrix' is not defined"
     ]
    }
   ],
   "source": [
    "get_recommendations(\"Prince of Persia: Warrior Within™\", tag_cosine_similarities, nlp_data, indices, 10)"
   ]
  },
  {
   "cell_type": "code",
   "execution_count": null,
   "id": "eeee741d",
   "metadata": {},
   "outputs": [],
   "source": []
  }
 ],
 "metadata": {
  "kernelspec": {
   "display_name": "Python 3",
   "language": "python",
   "name": "python3"
  },
  "language_info": {
   "codemirror_mode": {
    "name": "ipython",
    "version": 3
   },
   "file_extension": ".py",
   "mimetype": "text/x-python",
   "name": "python",
   "nbconvert_exporter": "python",
   "pygments_lexer": "ipython3",
   "version": "3.10.12"
  }
 },
 "nbformat": 4,
 "nbformat_minor": 5
}
